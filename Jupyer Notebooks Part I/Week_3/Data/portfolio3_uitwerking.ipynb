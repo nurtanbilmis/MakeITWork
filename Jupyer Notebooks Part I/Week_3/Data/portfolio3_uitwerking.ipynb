{
 "cells": [
  {
   "cell_type": "markdown",
   "metadata": {
    "id": "XIpt9STSqLgk"
   },
   "source": [
    "Hoeveel banen waren er in 2018?  \n",
    "Wat is in de jaren 2013-2018 het maximaal aantal personen werkzaam geweest in de Landbouw, bosbouw en visserij?   \n",
    "Werken er meer mannen of meer vrouwen in de gezondheidszorg?   \n",
    "Wat is de procentuele stijging in arbeidsjaren tussen 2015 en 2014?   \n",
    "Welk type banen (werkenden en zelfstandigen) is het meest gestegen in de periode 2013-2018?   "
   ]
  },
  {
   "cell_type": "code",
   "execution_count": 1,
   "metadata": {
    "colab": {
     "base_uri": "https://localhost:8080/"
    },
    "id": "hAZgW8kk6ZpF",
    "outputId": "600d798b-0bbe-477f-e9b3-e56fea8a7397"
   },
   "outputs": [
    {
     "name": "stdout",
     "output_type": "stream",
     "text": [
      "Mounted at /content/gdrive\n"
     ]
    }
   ],
   "source": [
    "from google.colab import drive\n",
    "\n",
    "drive.mount('/content/gdrive')\n",
    "\n",
    "wd =  '/content/gdrive/My Drive/MITW/week3/data/'"
   ]
  },
  {
   "cell_type": "code",
   "execution_count": 2,
   "metadata": {
    "id": "AVXXkDlLqJ8s"
   },
   "outputs": [],
   "source": [
    "import pandas as pd\n",
    "import numpy as np"
   ]
  },
  {
   "cell_type": "code",
   "execution_count": 7,
   "metadata": {
    "id": "fQXHXx1Oqe0k"
   },
   "outputs": [],
   "source": [
    "df = pd.read_csv(wd+'Dataset1 week 9.csv', sep=\";\")"
   ]
  },
  {
   "cell_type": "code",
   "execution_count": 8,
   "metadata": {
    "colab": {
     "base_uri": "https://localhost:8080/",
     "height": 424
    },
    "id": "gkyCyS-d3Ssr",
    "outputId": "bd7b93ac-7ca7-45cb-d0c8-837dee8f06b7"
   },
   "outputs": [
    {
     "data": {
      "text/html": [
       "\n",
       "  <div id=\"df-d97c0bff-e8a8-48ed-b6f7-e89d0b46d3b0\">\n",
       "    <div class=\"colab-df-container\">\n",
       "      <div>\n",
       "<style scoped>\n",
       "    .dataframe tbody tr th:only-of-type {\n",
       "        vertical-align: middle;\n",
       "    }\n",
       "\n",
       "    .dataframe tbody tr th {\n",
       "        vertical-align: top;\n",
       "    }\n",
       "\n",
       "    .dataframe thead th {\n",
       "        text-align: right;\n",
       "    }\n",
       "</style>\n",
       "<table border=\"1\" class=\"dataframe\">\n",
       "  <thead>\n",
       "    <tr style=\"text-align: right;\">\n",
       "      <th></th>\n",
       "      <th>Geslacht</th>\n",
       "      <th>Bedrijfstakken/branches (SBI 2008)</th>\n",
       "      <th>Perioden</th>\n",
       "      <th>Onderwerp</th>\n",
       "      <th>Type werkenden</th>\n",
       "      <th>Waarde</th>\n",
       "    </tr>\n",
       "  </thead>\n",
       "  <tbody>\n",
       "    <tr>\n",
       "      <th>0</th>\n",
       "      <td>Mannen</td>\n",
       "      <td>A Landbouw, bosbouw en visserij</td>\n",
       "      <td>2013</td>\n",
       "      <td>Werkzame personen</td>\n",
       "      <td>Werknemers</td>\n",
       "      <td>68</td>\n",
       "    </tr>\n",
       "    <tr>\n",
       "      <th>1</th>\n",
       "      <td>Mannen</td>\n",
       "      <td>A Landbouw, bosbouw en visserij</td>\n",
       "      <td>2013</td>\n",
       "      <td>Werkzame personen</td>\n",
       "      <td>Zelfstandigen</td>\n",
       "      <td>66</td>\n",
       "    </tr>\n",
       "    <tr>\n",
       "      <th>2</th>\n",
       "      <td>Mannen</td>\n",
       "      <td>A Landbouw, bosbouw en visserij</td>\n",
       "      <td>2013</td>\n",
       "      <td>Banen</td>\n",
       "      <td>Werknemers</td>\n",
       "      <td>75</td>\n",
       "    </tr>\n",
       "    <tr>\n",
       "      <th>3</th>\n",
       "      <td>Mannen</td>\n",
       "      <td>A Landbouw, bosbouw en visserij</td>\n",
       "      <td>2013</td>\n",
       "      <td>Banen</td>\n",
       "      <td>Zelfstandigen</td>\n",
       "      <td>89</td>\n",
       "    </tr>\n",
       "    <tr>\n",
       "      <th>4</th>\n",
       "      <td>Mannen</td>\n",
       "      <td>A Landbouw, bosbouw en visserij</td>\n",
       "      <td>2013</td>\n",
       "      <td>Arbeidsjaren</td>\n",
       "      <td>Werknemers</td>\n",
       "      <td>56</td>\n",
       "    </tr>\n",
       "    <tr>\n",
       "      <th>...</th>\n",
       "      <td>...</td>\n",
       "      <td>...</td>\n",
       "      <td>...</td>\n",
       "      <td>...</td>\n",
       "      <td>...</td>\n",
       "      <td>...</td>\n",
       "    </tr>\n",
       "    <tr>\n",
       "      <th>1915</th>\n",
       "      <td>Vrouwen</td>\n",
       "      <td>T Huishoudens</td>\n",
       "      <td>2018</td>\n",
       "      <td>Banen</td>\n",
       "      <td>Zelfstandigen</td>\n",
       "      <td>0</td>\n",
       "    </tr>\n",
       "    <tr>\n",
       "      <th>1916</th>\n",
       "      <td>Vrouwen</td>\n",
       "      <td>T Huishoudens</td>\n",
       "      <td>2018</td>\n",
       "      <td>Arbeidsjaren</td>\n",
       "      <td>Werknemers</td>\n",
       "      <td>13</td>\n",
       "    </tr>\n",
       "    <tr>\n",
       "      <th>1917</th>\n",
       "      <td>Vrouwen</td>\n",
       "      <td>T Huishoudens</td>\n",
       "      <td>2018</td>\n",
       "      <td>Arbeidsjaren</td>\n",
       "      <td>Zelfstandigen</td>\n",
       "      <td>0</td>\n",
       "    </tr>\n",
       "    <tr>\n",
       "      <th>1918</th>\n",
       "      <td>Vrouwen</td>\n",
       "      <td>T Huishoudens</td>\n",
       "      <td>2018</td>\n",
       "      <td>Gewerkte uren</td>\n",
       "      <td>Werknemers</td>\n",
       "      <td>23</td>\n",
       "    </tr>\n",
       "    <tr>\n",
       "      <th>1919</th>\n",
       "      <td>Vrouwen</td>\n",
       "      <td>T Huishoudens</td>\n",
       "      <td>2018</td>\n",
       "      <td>Gewerkte uren</td>\n",
       "      <td>Zelfstandigen</td>\n",
       "      <td>0</td>\n",
       "    </tr>\n",
       "  </tbody>\n",
       "</table>\n",
       "<p>1920 rows × 6 columns</p>\n",
       "</div>\n",
       "      <button class=\"colab-df-convert\" onclick=\"convertToInteractive('df-d97c0bff-e8a8-48ed-b6f7-e89d0b46d3b0')\"\n",
       "              title=\"Convert this dataframe to an interactive table.\"\n",
       "              style=\"display:none;\">\n",
       "        \n",
       "  <svg xmlns=\"http://www.w3.org/2000/svg\" height=\"24px\"viewBox=\"0 0 24 24\"\n",
       "       width=\"24px\">\n",
       "    <path d=\"M0 0h24v24H0V0z\" fill=\"none\"/>\n",
       "    <path d=\"M18.56 5.44l.94 2.06.94-2.06 2.06-.94-2.06-.94-.94-2.06-.94 2.06-2.06.94zm-11 1L8.5 8.5l.94-2.06 2.06-.94-2.06-.94L8.5 2.5l-.94 2.06-2.06.94zm10 10l.94 2.06.94-2.06 2.06-.94-2.06-.94-.94-2.06-.94 2.06-2.06.94z\"/><path d=\"M17.41 7.96l-1.37-1.37c-.4-.4-.92-.59-1.43-.59-.52 0-1.04.2-1.43.59L10.3 9.45l-7.72 7.72c-.78.78-.78 2.05 0 2.83L4 21.41c.39.39.9.59 1.41.59.51 0 1.02-.2 1.41-.59l7.78-7.78 2.81-2.81c.8-.78.8-2.07 0-2.86zM5.41 20L4 18.59l7.72-7.72 1.47 1.35L5.41 20z\"/>\n",
       "  </svg>\n",
       "      </button>\n",
       "      \n",
       "  <style>\n",
       "    .colab-df-container {\n",
       "      display:flex;\n",
       "      flex-wrap:wrap;\n",
       "      gap: 12px;\n",
       "    }\n",
       "\n",
       "    .colab-df-convert {\n",
       "      background-color: #E8F0FE;\n",
       "      border: none;\n",
       "      border-radius: 50%;\n",
       "      cursor: pointer;\n",
       "      display: none;\n",
       "      fill: #1967D2;\n",
       "      height: 32px;\n",
       "      padding: 0 0 0 0;\n",
       "      width: 32px;\n",
       "    }\n",
       "\n",
       "    .colab-df-convert:hover {\n",
       "      background-color: #E2EBFA;\n",
       "      box-shadow: 0px 1px 2px rgba(60, 64, 67, 0.3), 0px 1px 3px 1px rgba(60, 64, 67, 0.15);\n",
       "      fill: #174EA6;\n",
       "    }\n",
       "\n",
       "    [theme=dark] .colab-df-convert {\n",
       "      background-color: #3B4455;\n",
       "      fill: #D2E3FC;\n",
       "    }\n",
       "\n",
       "    [theme=dark] .colab-df-convert:hover {\n",
       "      background-color: #434B5C;\n",
       "      box-shadow: 0px 1px 3px 1px rgba(0, 0, 0, 0.15);\n",
       "      filter: drop-shadow(0px 1px 2px rgba(0, 0, 0, 0.3));\n",
       "      fill: #FFFFFF;\n",
       "    }\n",
       "  </style>\n",
       "\n",
       "      <script>\n",
       "        const buttonEl =\n",
       "          document.querySelector('#df-d97c0bff-e8a8-48ed-b6f7-e89d0b46d3b0 button.colab-df-convert');\n",
       "        buttonEl.style.display =\n",
       "          google.colab.kernel.accessAllowed ? 'block' : 'none';\n",
       "\n",
       "        async function convertToInteractive(key) {\n",
       "          const element = document.querySelector('#df-d97c0bff-e8a8-48ed-b6f7-e89d0b46d3b0');\n",
       "          const dataTable =\n",
       "            await google.colab.kernel.invokeFunction('convertToInteractive',\n",
       "                                                     [key], {});\n",
       "          if (!dataTable) return;\n",
       "\n",
       "          const docLinkHtml = 'Like what you see? Visit the ' +\n",
       "            '<a target=\"_blank\" href=https://colab.research.google.com/notebooks/data_table.ipynb>data table notebook</a>'\n",
       "            + ' to learn more about interactive tables.';\n",
       "          element.innerHTML = '';\n",
       "          dataTable['output_type'] = 'display_data';\n",
       "          await google.colab.output.renderOutput(dataTable, element);\n",
       "          const docLink = document.createElement('div');\n",
       "          docLink.innerHTML = docLinkHtml;\n",
       "          element.appendChild(docLink);\n",
       "        }\n",
       "      </script>\n",
       "    </div>\n",
       "  </div>\n",
       "  "
      ],
      "text/plain": [
       "     Geslacht Bedrijfstakken/branches (SBI 2008)  Perioden          Onderwerp  \\\n",
       "0      Mannen    A Landbouw, bosbouw en visserij      2013  Werkzame personen   \n",
       "1      Mannen    A Landbouw, bosbouw en visserij      2013  Werkzame personen   \n",
       "2      Mannen    A Landbouw, bosbouw en visserij      2013              Banen   \n",
       "3      Mannen    A Landbouw, bosbouw en visserij      2013              Banen   \n",
       "4      Mannen    A Landbouw, bosbouw en visserij      2013       Arbeidsjaren   \n",
       "...       ...                                ...       ...                ...   \n",
       "1915  Vrouwen                      T Huishoudens      2018              Banen   \n",
       "1916  Vrouwen                      T Huishoudens      2018       Arbeidsjaren   \n",
       "1917  Vrouwen                      T Huishoudens      2018       Arbeidsjaren   \n",
       "1918  Vrouwen                      T Huishoudens      2018      Gewerkte uren   \n",
       "1919  Vrouwen                      T Huishoudens      2018      Gewerkte uren   \n",
       "\n",
       "     Type werkenden  Waarde  \n",
       "0        Werknemers      68  \n",
       "1     Zelfstandigen      66  \n",
       "2        Werknemers      75  \n",
       "3     Zelfstandigen      89  \n",
       "4        Werknemers      56  \n",
       "...             ...     ...  \n",
       "1915  Zelfstandigen       0  \n",
       "1916     Werknemers      13  \n",
       "1917  Zelfstandigen       0  \n",
       "1918     Werknemers      23  \n",
       "1919  Zelfstandigen       0  \n",
       "\n",
       "[1920 rows x 6 columns]"
      ]
     },
     "execution_count": 8,
     "metadata": {},
     "output_type": "execute_result"
    }
   ],
   "source": [
    "df"
   ]
  },
  {
   "cell_type": "code",
   "execution_count": null,
   "metadata": {
    "colab": {
     "base_uri": "https://localhost:8080/"
    },
    "id": "6GImngq9qoXI",
    "outputId": "87a7bb58-bf57-427f-8d75-8d3e56b1f5b5"
   },
   "outputs": [
    {
     "data": {
      "text/plain": [
       "10564"
      ]
     },
     "execution_count": 12,
     "metadata": {},
     "output_type": "execute_result"
    }
   ],
   "source": [
    "#Hoeveel banen waren er in 2018?\n",
    "df[(df['Onderwerp'] == 'Banen') & (df['Perioden'] == 2018)]['Waarde'].sum()"
   ]
  },
  {
   "cell_type": "code",
   "execution_count": null,
   "metadata": {
    "colab": {
     "base_uri": "https://localhost:8080/"
    },
    "id": "SRJCDFU3vFf9",
    "outputId": "a7858817-c98e-4f93-ed8a-39b369c0558b"
   },
   "outputs": [
    {
     "data": {
      "text/plain": [
       "Waarde    200\n",
       "dtype: int64"
      ]
     },
     "execution_count": 32,
     "metadata": {},
     "output_type": "execute_result"
    }
   ],
   "source": [
    "#Wat is in de jaren 2013-2018 het maximaal aantal personen werkzaam geweest in de Landbouw, bosbouw en visserij?\n",
    "\n",
    "df[(df['Bedrijfstakken/branches (SBI 2008)'] == 'A Landbouw, bosbouw en visserij')\n",
    "    & (df['Onderwerp'] == 'Werkzame personen')].groupby('Perioden').sum().max()"
   ]
  },
  {
   "cell_type": "code",
   "execution_count": null,
   "metadata": {
    "colab": {
     "base_uri": "https://localhost:8080/"
    },
    "id": "MilyWm9_zcUu",
    "outputId": "3036de7c-5090-4d3e-e51e-8910a14dac0c"
   },
   "outputs": [
    {
     "data": {
      "text/plain": [
       "{'A Landbouw, bosbouw en visserij',\n",
       " 'B Delfstoffenwinning',\n",
       " 'C Industrie',\n",
       " 'D Energievoorziening',\n",
       " 'E Waterbedrijven en afvalbeheer',\n",
       " 'F Bouwnijverheid',\n",
       " 'G Handel',\n",
       " 'H Vervoer en opslag',\n",
       " 'I Horeca',\n",
       " 'J Informatie en communicatie',\n",
       " 'K Financiële dienstverlening',\n",
       " 'L Verhuur en handel van onroerend goed',\n",
       " 'M Specialistische zakelijke diensten',\n",
       " 'N Verhuur en overige zakelijke diensten',\n",
       " 'O Openbaar bestuur en overheidsdiensten',\n",
       " 'P Onderwijs',\n",
       " 'Q Gezondheids- en welzijnszorg',\n",
       " 'R Cultuur, sport en recreatie',\n",
       " 'S Overige dienstverlening',\n",
       " 'T Huishoudens'}"
      ]
     },
     "execution_count": 37,
     "metadata": {},
     "output_type": "execute_result"
    }
   ],
   "source": [
    "set(df['Bedrijfstakken/branches (SBI 2008)'])"
   ]
  },
  {
   "cell_type": "code",
   "execution_count": null,
   "metadata": {
    "colab": {
     "base_uri": "https://localhost:8080/"
    },
    "id": "HFB3bAJ0zDxG",
    "outputId": "0e4a9782-bf04-407f-8896-f4544841c762"
   },
   "outputs": [
    {
     "name": "stdout",
     "output_type": "stream",
     "text": [
      "vrouwen\n"
     ]
    }
   ],
   "source": [
    "#Werken er meer mannen of meer vrouwen in de gezondheidszorg?\n",
    "\n",
    "mannen = df[(df['Bedrijfstakken/branches (SBI 2008)'] == 'Q Gezondheids- en welzijnszorg')\n",
    "            & (df['Geslacht'] == 'Mannen')\n",
    "            & (df['Onderwerp'] == 'Werkzame personen')]\n",
    "\n",
    "vrouwen = df[(df['Bedrijfstakken/branches (SBI 2008)'] == 'Q Gezondheids- en welzijnszorg')\n",
    "            & (df['Geslacht'] == 'Vrouwen')\n",
    "            & (df['Onderwerp'] == 'Werkzame personen')]\n",
    "\n",
    "\n",
    "\n",
    "if mannen['Waarde'].sum() > vrouwen['Waarde'].sum():\n",
    "    print('mannen')\n",
    "else:\n",
    "    print('vrouwen')"
   ]
  },
  {
   "cell_type": "code",
   "execution_count": null,
   "metadata": {
    "colab": {
     "base_uri": "https://localhost:8080/"
    },
    "id": "c_TOoPjjwfHX",
    "outputId": "cd0fad7a-34a7-4ab9-90b4-8ebfcf9c302c"
   },
   "outputs": [
    {
     "data": {
      "text/plain": [
       "1.0127075812274369"
      ]
     },
     "execution_count": 61,
     "metadata": {},
     "output_type": "execute_result"
    }
   ],
   "source": [
    "#Wat is de procentuele stijging in arbeidsjaren tussen 2015 en 2014\n",
    "jaar2015 = df[(df['Perioden'] == 2015) & (df['Onderwerp'] == 'Arbeidsjaren')]['Waarde'].sum()\n",
    "jaar2014 = df[(df['Perioden'] == 2014) & (df['Onderwerp'] == 'Arbeidsjaren')]['Waarde'].sum()\n",
    "\n",
    "jaar2015 / jaar2014"
   ]
  },
  {
   "cell_type": "code",
   "execution_count": 1,
   "metadata": {
    "colab": {
     "base_uri": "https://localhost:8080/",
     "height": 35
    },
    "id": "lrfrStJS_HZs",
    "outputId": "822a20f6-5c8d-4b21-bbf1-ef84b3154ab3"
   },
   "outputs": [
    {
     "ename": "NameError",
     "evalue": "name 'df' is not defined",
     "output_type": "error",
     "traceback": [
      "\u001b[1;31m---------------------------------------------------------------------------\u001b[0m",
      "\u001b[1;31mNameError\u001b[0m                                 Traceback (most recent call last)",
      "\u001b[1;32m~\\AppData\\Local\\Temp\\ipykernel_3416\\1840420462.py\u001b[0m in \u001b[0;36m<module>\u001b[1;34m\u001b[0m\n\u001b[0;32m      1\u001b[0m \u001b[1;31m#Welk type banen (werkenden en zelfstandigen) is het meest gestegen in de periode 2013-2018?\u001b[0m\u001b[1;33m\u001b[0m\u001b[1;33m\u001b[0m\u001b[0m\n\u001b[0;32m      2\u001b[0m \u001b[1;33m\u001b[0m\u001b[0m\n\u001b[1;32m----> 3\u001b[1;33m \u001b[0mw2013\u001b[0m \u001b[1;33m=\u001b[0m \u001b[0mdf\u001b[0m\u001b[1;33m[\u001b[0m\u001b[1;33m(\u001b[0m\u001b[0mdf\u001b[0m\u001b[1;33m[\u001b[0m\u001b[1;34m'Onderwerp'\u001b[0m\u001b[1;33m]\u001b[0m \u001b[1;33m==\u001b[0m \u001b[1;34m'Banen'\u001b[0m\u001b[1;33m)\u001b[0m \u001b[1;33m&\u001b[0m \u001b[1;33m(\u001b[0m\u001b[0mdf\u001b[0m\u001b[1;33m[\u001b[0m\u001b[1;34m'Perioden'\u001b[0m\u001b[1;33m]\u001b[0m \u001b[1;33m==\u001b[0m \u001b[1;36m2013\u001b[0m\u001b[1;33m)\u001b[0m\u001b[1;33m]\u001b[0m\u001b[1;33m\u001b[0m\u001b[1;33m\u001b[0m\u001b[0m\n\u001b[0m\u001b[0;32m      4\u001b[0m \u001b[0mw2013\u001b[0m \u001b[1;33m=\u001b[0m \u001b[0mw2013\u001b[0m\u001b[1;33m[\u001b[0m\u001b[1;33m[\u001b[0m\u001b[1;34m'Bedrijfstakken/branches (SBI 2008)'\u001b[0m\u001b[1;33m,\u001b[0m\u001b[1;34m'Waarde'\u001b[0m\u001b[1;33m]\u001b[0m\u001b[1;33m]\u001b[0m\u001b[1;33m.\u001b[0m\u001b[0mgroupby\u001b[0m\u001b[1;33m(\u001b[0m\u001b[1;34m'Bedrijfstakken/branches (SBI 2008)'\u001b[0m\u001b[1;33m)\u001b[0m\u001b[1;33m.\u001b[0m\u001b[0msum\u001b[0m\u001b[1;33m(\u001b[0m\u001b[1;33m)\u001b[0m\u001b[1;33m\u001b[0m\u001b[1;33m\u001b[0m\u001b[0m\n\u001b[0;32m      5\u001b[0m \u001b[1;33m\u001b[0m\u001b[0m\n",
      "\u001b[1;31mNameError\u001b[0m: name 'df' is not defined"
     ]
    }
   ],
   "source": [
    "#Welk type banen (werkenden en zelfstandigen) is het meest gestegen in de periode 2013-2018? \n",
    "\n",
    "w2013 = df[(df['Onderwerp'] == 'Banen') & (df['Perioden'] == 2013)]\n",
    "w2013 = w2013[['Bedrijfstakken/branches (SBI 2008)','Waarde']].groupby('Bedrijfstakken/branches (SBI 2008)').sum()\n",
    "\n",
    "\n",
    "w2018 = df[(df['Onderwerp'] == 'Banen') & (df['Perioden'] == 2018)]\n",
    "w2018 = w2018[['Bedrijfstakken/branches (SBI 2008)','Waarde']].groupby('Bedrijfstakken/branches (SBI 2008)').sum()\n",
    "\n",
    "\n",
    "w2018['Waarde 2013'] = w2013['Waarde']\n",
    "w2018['verschil'] = w2018['Waarde'] - w2013['Waarde']\n",
    "\n",
    "\n",
    "\n",
    "w2018[w2018['verschil'] == w2018['verschil'].max()].index[0]"
   ]
  },
  {
   "cell_type": "code",
   "execution_count": null,
   "metadata": {},
   "outputs": [],
   "source": []
  }
 ],
 "metadata": {
  "colab": {
   "provenance": []
  },
  "kernelspec": {
   "display_name": "Python 3 (ipykernel)",
   "language": "python",
   "name": "python3"
  },
  "language_info": {
   "codemirror_mode": {
    "name": "ipython",
    "version": 3
   },
   "file_extension": ".py",
   "mimetype": "text/x-python",
   "name": "python",
   "nbconvert_exporter": "python",
   "pygments_lexer": "ipython3",
   "version": "3.9.13"
  }
 },
 "nbformat": 4,
 "nbformat_minor": 1
}
