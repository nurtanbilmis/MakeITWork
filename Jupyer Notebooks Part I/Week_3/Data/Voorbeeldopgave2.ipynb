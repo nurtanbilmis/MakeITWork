{
 "cells": [
  {
   "cell_type": "markdown",
   "metadata": {},
   "source": [
    "# Voorbeeldopdracht week 7: Pivot in Pandas"
   ]
  },
  {
   "cell_type": "markdown",
   "metadata": {},
   "source": [
    "Vanaf deze week worden de opdrachten bij dit vak in Python gemaakt. Aan het begin zal hierbij nog veel code voorgeschreven worden, later komt er meer ruimte om zelf code te typen. \n",
    "\n",
    "Jupyter Notebooks worden uitgebreider behandeld bij het vak Programming. "
   ]
  },
  {
   "cell_type": "markdown",
   "metadata": {},
   "source": [
    "## Opdracht 1"
   ]
  },
  {
   "cell_type": "markdown",
   "metadata": {},
   "source": [
    "Hieronder wordt een dataset ingelezen om te analyseren bij deze opdracht. \n",
    "Download hiervoor index_dataset van Brightspace en zet deze op je laptop in dezelfde map als waar je deze opdracht opslaat."
   ]
  },
  {
   "cell_type": "code",
   "execution_count": 2,
   "metadata": {
    "ExecuteTime": {
     "end_time": "2022-10-05T09:57:20.765090Z",
     "start_time": "2022-10-05T09:57:16.566032Z"
    }
   },
   "outputs": [],
   "source": [
    "# Code om de pandas library in te lezen om analyses mee te doen\n",
    "import pandas as pd\n",
    "# Verander hieronder de locatie van de dataset\n",
    "locatie = 'index.xlsx'\n",
    "data = pd.read_excel(locatie)"
   ]
  },
  {
   "cell_type": "markdown",
   "metadata": {},
   "source": [
    "Als je hieronder de cell uitvoert krijg je de dataset te zien. Zoals je ziet is de dataset gelijk aan de dataset van week 1"
   ]
  },
  {
   "cell_type": "markdown",
   "metadata": {},
   "source": [
    "Run de cell hieronder"
   ]
  },
  {
   "cell_type": "code",
   "execution_count": 3,
   "metadata": {
    "ExecuteTime": {
     "end_time": "2022-10-05T09:57:20.825907Z",
     "start_time": "2022-10-05T09:57:20.781025Z"
    }
   },
   "outputs": [
    {
     "data": {
      "text/html": [
       "<div>\n",
       "<style scoped>\n",
       "    .dataframe tbody tr th:only-of-type {\n",
       "        vertical-align: middle;\n",
       "    }\n",
       "\n",
       "    .dataframe tbody tr th {\n",
       "        vertical-align: top;\n",
       "    }\n",
       "\n",
       "    .dataframe thead th {\n",
       "        text-align: right;\n",
       "    }\n",
       "</style>\n",
       "<table border=\"1\" class=\"dataframe\">\n",
       "  <thead>\n",
       "    <tr style=\"text-align: right;\">\n",
       "      <th></th>\n",
       "      <th>Nationaal/internationaal</th>\n",
       "      <th>Soort index</th>\n",
       "      <th>Index naam</th>\n",
       "      <th>Periode</th>\n",
       "      <th>waarde</th>\n",
       "    </tr>\n",
       "  </thead>\n",
       "  <tbody>\n",
       "    <tr>\n",
       "      <th>0</th>\n",
       "      <td>Nederland</td>\n",
       "      <td>euronext Amsterdam</td>\n",
       "      <td>AEX-index</td>\n",
       "      <td>1990-01-01</td>\n",
       "      <td>136.59</td>\n",
       "    </tr>\n",
       "    <tr>\n",
       "      <th>1</th>\n",
       "      <td>Nederland</td>\n",
       "      <td>euronext Amsterdam</td>\n",
       "      <td>AEX-index</td>\n",
       "      <td>1990-01-02</td>\n",
       "      <td>136.52</td>\n",
       "    </tr>\n",
       "    <tr>\n",
       "      <th>2</th>\n",
       "      <td>Nederland</td>\n",
       "      <td>euronext Amsterdam</td>\n",
       "      <td>AEX-index</td>\n",
       "      <td>1990-01-03</td>\n",
       "      <td>138.24</td>\n",
       "    </tr>\n",
       "    <tr>\n",
       "      <th>3</th>\n",
       "      <td>Nederland</td>\n",
       "      <td>euronext Amsterdam</td>\n",
       "      <td>AEX-index</td>\n",
       "      <td>1990-01-04</td>\n",
       "      <td>137.04</td>\n",
       "    </tr>\n",
       "    <tr>\n",
       "      <th>4</th>\n",
       "      <td>Nederland</td>\n",
       "      <td>euronext Amsterdam</td>\n",
       "      <td>AEX-index</td>\n",
       "      <td>1990-01-05</td>\n",
       "      <td>134.91</td>\n",
       "    </tr>\n",
       "    <tr>\n",
       "      <th>...</th>\n",
       "      <td>...</td>\n",
       "      <td>...</td>\n",
       "      <td>...</td>\n",
       "      <td>...</td>\n",
       "      <td>...</td>\n",
       "    </tr>\n",
       "    <tr>\n",
       "      <th>63711</th>\n",
       "      <td>Internationale indices</td>\n",
       "      <td>NaN</td>\n",
       "      <td>MSCI-world index</td>\n",
       "      <td>2018-12-25</td>\n",
       "      <td>1375044.00</td>\n",
       "    </tr>\n",
       "    <tr>\n",
       "      <th>63712</th>\n",
       "      <td>Internationale indices</td>\n",
       "      <td>NaN</td>\n",
       "      <td>MSCI-world index</td>\n",
       "      <td>2018-12-26</td>\n",
       "      <td>1417799.00</td>\n",
       "    </tr>\n",
       "    <tr>\n",
       "      <th>63713</th>\n",
       "      <td>Internationale indices</td>\n",
       "      <td>NaN</td>\n",
       "      <td>MSCI-world index</td>\n",
       "      <td>2018-12-27</td>\n",
       "      <td>1427729.00</td>\n",
       "    </tr>\n",
       "    <tr>\n",
       "      <th>63714</th>\n",
       "      <td>Internationale indices</td>\n",
       "      <td>NaN</td>\n",
       "      <td>MSCI-world index</td>\n",
       "      <td>2018-12-28</td>\n",
       "      <td>1432601.00</td>\n",
       "    </tr>\n",
       "    <tr>\n",
       "      <th>63715</th>\n",
       "      <td>Internationale indices</td>\n",
       "      <td>NaN</td>\n",
       "      <td>MSCI-world index</td>\n",
       "      <td>2018-12-31</td>\n",
       "      <td>1441424.00</td>\n",
       "    </tr>\n",
       "  </tbody>\n",
       "</table>\n",
       "<p>63716 rows × 5 columns</p>\n",
       "</div>"
      ],
      "text/plain": [
       "      Nationaal/internationaal           Soort index         Index naam  \\\n",
       "0                    Nederland   euronext Amsterdam          AEX-index    \n",
       "1                    Nederland   euronext Amsterdam          AEX-index    \n",
       "2                    Nederland   euronext Amsterdam          AEX-index    \n",
       "3                    Nederland   euronext Amsterdam          AEX-index    \n",
       "4                    Nederland   euronext Amsterdam          AEX-index    \n",
       "...                        ...                   ...                ...   \n",
       "63711  Internationale indices                    NaN  MSCI-world index    \n",
       "63712  Internationale indices                    NaN  MSCI-world index    \n",
       "63713  Internationale indices                    NaN  MSCI-world index    \n",
       "63714  Internationale indices                    NaN  MSCI-world index    \n",
       "63715  Internationale indices                    NaN  MSCI-world index    \n",
       "\n",
       "        Periode       waarde  \n",
       "0     1990-01-01      136.59  \n",
       "1     1990-01-02      136.52  \n",
       "2     1990-01-03      138.24  \n",
       "3     1990-01-04      137.04  \n",
       "4     1990-01-05      134.91  \n",
       "...          ...         ...  \n",
       "63711 2018-12-25  1375044.00  \n",
       "63712 2018-12-26  1417799.00  \n",
       "63713 2018-12-27  1427729.00  \n",
       "63714 2018-12-28  1432601.00  \n",
       "63715 2018-12-31  1441424.00  \n",
       "\n",
       "[63716 rows x 5 columns]"
      ]
     },
     "execution_count": 3,
     "metadata": {},
     "output_type": "execute_result"
    }
   ],
   "source": [
    "data"
   ]
  },
  {
   "cell_type": "code",
   "execution_count": 4,
   "metadata": {
    "ExecuteTime": {
     "end_time": "2022-10-05T10:32:51.376225Z",
     "start_time": "2022-10-05T10:32:51.361266Z"
    }
   },
   "outputs": [
    {
     "data": {
      "text/plain": [
       "Nationaal/internationaal            object\n",
       "Soort index                         object\n",
       "Index naam                          object\n",
       "Periode                     datetime64[ns]\n",
       "waarde                             float64\n",
       "dtype: object"
      ]
     },
     "execution_count": 4,
     "metadata": {},
     "output_type": "execute_result"
    }
   ],
   "source": [
    "data.dtypes"
   ]
  },
  {
   "cell_type": "code",
   "execution_count": 5,
   "metadata": {
    "ExecuteTime": {
     "end_time": "2022-10-05T10:31:08.305183Z",
     "start_time": "2022-10-05T10:31:08.286204Z"
    }
   },
   "outputs": [
    {
     "data": {
      "text/plain": [
       "(63716, 5)"
      ]
     },
     "execution_count": 5,
     "metadata": {},
     "output_type": "execute_result"
    }
   ],
   "source": [
    "data.shape"
   ]
  },
  {
   "cell_type": "markdown",
   "metadata": {},
   "source": [
    "De output van de functie is een tuple met als eerste waarde het aantal regels van de dataset en als tweede waarde het aantal kolommen. "
   ]
  },
  {
   "cell_type": "markdown",
   "metadata": {},
   "source": [
    "## Basisanalyse"
   ]
  },
  {
   "cell_type": "markdown",
   "metadata": {},
   "source": [
    "Er zijn heel veel verschillende manieren om uit een tabel specifieke rijen en kolommen te selecteren en hier vervolgens data uit te halen. Dit wordt bij programming verder behandeld. Hier wordt gewerkt met .loc"
   ]
  },
  {
   "cell_type": "code",
   "execution_count": 6,
   "metadata": {
    "ExecuteTime": {
     "end_time": "2022-10-05T09:58:01.224007Z",
     "start_time": "2022-10-05T09:58:01.205028Z"
    }
   },
   "outputs": [],
   "source": [
    "# Selecteer de AEX index\n",
    "analyse_data = data.loc[data['Index naam']=='AEX-index ', :]"
   ]
  },
  {
   "cell_type": "markdown",
   "metadata": {},
   "source": [
    "Nu wordt het verschil in de AEX index tussen 1-1-1990 en 31-12-2008 berekend in de variabele 'verschil'"
   ]
  },
  {
   "cell_type": "code",
   "execution_count": 7,
   "metadata": {
    "ExecuteTime": {
     "end_time": "2022-10-05T09:58:18.494700Z",
     "start_time": "2022-10-05T09:58:18.479711Z"
    }
   },
   "outputs": [
    {
     "data": {
      "text/plain": [
       "109.35"
      ]
     },
     "execution_count": 7,
     "metadata": {},
     "output_type": "execute_result"
    }
   ],
   "source": [
    "# Selecteer de waarde op 1990-01-01\n",
    "waarde_1990_01_01 = analyse_data.loc[analyse_data['Periode ']=='1990-01-01', 'waarde'].values[0]\n",
    "# Selecteer de waarde op 2008-12-31\n",
    "waarde_2008_12_31 = analyse_data.loc[analyse_data['Periode ']=='2008-12-31', 'waarde'].values[0]\n",
    "verschil = waarde_2008_12_31-waarde_1990_01_01\n",
    "verschil"
   ]
  },
  {
   "cell_type": "markdown",
   "metadata": {},
   "source": [
    "Zoals je ziet is een analyse in Python niet altijd sneller of makkelijker dan een analyse in Excel. Er is natuurlijk wel een groot voordeel dat wanneer bijvoorbeeld in de selectie van de index de AEX aanpast naar Dow Jones en de code eronder runt je meteen het goede antwoord krijgt op de vraag hoeveel de Dow Jones index is gestegen. In de praktijk zal je altijd zelf moeten bepalen welke methode voor de vraag het best werkt. Over het algemeen wordt aangeraden om wanneer de een activiteit vaak wil herhalen Python op de lange termijn beter werkt."
   ]
  },
  {
   "cell_type": "markdown",
   "metadata": {},
   "source": [
    "## Draaitabellen"
   ]
  },
  {
   "cell_type": "markdown",
   "metadata": {},
   "source": [
    "Ook draaitabellen kunnen gemakkelijk gemaakt worden in Python. Dit doe je met het commando pivot_table. We selecteren eerst even alleen de data uit april 2006 van Nederlandse indices"
   ]
  },
  {
   "cell_type": "code",
   "execution_count": 8,
   "metadata": {
    "ExecuteTime": {
     "end_time": "2022-10-05T11:05:08.930831Z",
     "start_time": "2022-10-05T11:05:08.513386Z"
    }
   },
   "outputs": [
    {
     "data": {
      "text/html": [
       "<div>\n",
       "<style scoped>\n",
       "    .dataframe tbody tr th:only-of-type {\n",
       "        vertical-align: middle;\n",
       "    }\n",
       "\n",
       "    .dataframe tbody tr th {\n",
       "        vertical-align: top;\n",
       "    }\n",
       "\n",
       "    .dataframe thead th {\n",
       "        text-align: right;\n",
       "    }\n",
       "</style>\n",
       "<table border=\"1\" class=\"dataframe\">\n",
       "  <thead>\n",
       "    <tr style=\"text-align: right;\">\n",
       "      <th></th>\n",
       "      <th>Nationaal/internationaal</th>\n",
       "      <th>Soort index</th>\n",
       "      <th>Index naam</th>\n",
       "      <th>Periode</th>\n",
       "      <th>waarde</th>\n",
       "    </tr>\n",
       "  </thead>\n",
       "  <tbody>\n",
       "    <tr>\n",
       "      <th>4129</th>\n",
       "      <td>Nederland</td>\n",
       "      <td>euronext Amsterdam</td>\n",
       "      <td>AEX-index</td>\n",
       "      <td>2006-04-03</td>\n",
       "      <td>471.33</td>\n",
       "    </tr>\n",
       "    <tr>\n",
       "      <th>4130</th>\n",
       "      <td>Nederland</td>\n",
       "      <td>euronext Amsterdam</td>\n",
       "      <td>AEX-index</td>\n",
       "      <td>2006-04-04</td>\n",
       "      <td>467.95</td>\n",
       "    </tr>\n",
       "    <tr>\n",
       "      <th>4131</th>\n",
       "      <td>Nederland</td>\n",
       "      <td>euronext Amsterdam</td>\n",
       "      <td>AEX-index</td>\n",
       "      <td>2006-04-05</td>\n",
       "      <td>468.53</td>\n",
       "    </tr>\n",
       "    <tr>\n",
       "      <th>4132</th>\n",
       "      <td>Nederland</td>\n",
       "      <td>euronext Amsterdam</td>\n",
       "      <td>AEX-index</td>\n",
       "      <td>2006-04-06</td>\n",
       "      <td>469.60</td>\n",
       "    </tr>\n",
       "    <tr>\n",
       "      <th>4133</th>\n",
       "      <td>Nederland</td>\n",
       "      <td>euronext Amsterdam</td>\n",
       "      <td>AEX-index</td>\n",
       "      <td>2006-04-07</td>\n",
       "      <td>468.68</td>\n",
       "    </tr>\n",
       "    <tr>\n",
       "      <th>...</th>\n",
       "      <td>...</td>\n",
       "      <td>...</td>\n",
       "      <td>...</td>\n",
       "      <td>...</td>\n",
       "      <td>...</td>\n",
       "    </tr>\n",
       "    <tr>\n",
       "      <th>23774</th>\n",
       "      <td>Nederland</td>\n",
       "      <td>euronext Amsterdam</td>\n",
       "      <td>FinanciÃ«le instellingen</td>\n",
       "      <td>2006-04-24</td>\n",
       "      <td>633.04</td>\n",
       "    </tr>\n",
       "    <tr>\n",
       "      <th>23775</th>\n",
       "      <td>Nederland</td>\n",
       "      <td>euronext Amsterdam</td>\n",
       "      <td>FinanciÃ«le instellingen</td>\n",
       "      <td>2006-04-25</td>\n",
       "      <td>638.36</td>\n",
       "    </tr>\n",
       "    <tr>\n",
       "      <th>23776</th>\n",
       "      <td>Nederland</td>\n",
       "      <td>euronext Amsterdam</td>\n",
       "      <td>FinanciÃ«le instellingen</td>\n",
       "      <td>2006-04-26</td>\n",
       "      <td>637.71</td>\n",
       "    </tr>\n",
       "    <tr>\n",
       "      <th>23777</th>\n",
       "      <td>Nederland</td>\n",
       "      <td>euronext Amsterdam</td>\n",
       "      <td>FinanciÃ«le instellingen</td>\n",
       "      <td>2006-04-27</td>\n",
       "      <td>631.99</td>\n",
       "    </tr>\n",
       "    <tr>\n",
       "      <th>23778</th>\n",
       "      <td>Nederland</td>\n",
       "      <td>euronext Amsterdam</td>\n",
       "      <td>FinanciÃ«le instellingen</td>\n",
       "      <td>2006-04-28</td>\n",
       "      <td>625.58</td>\n",
       "    </tr>\n",
       "  </tbody>\n",
       "</table>\n",
       "<p>72 rows × 5 columns</p>\n",
       "</div>"
      ],
      "text/plain": [
       "      Nationaal/internationaal           Soort index  \\\n",
       "4129                 Nederland   euronext Amsterdam    \n",
       "4130                 Nederland   euronext Amsterdam    \n",
       "4131                 Nederland   euronext Amsterdam    \n",
       "4132                 Nederland   euronext Amsterdam    \n",
       "4133                 Nederland   euronext Amsterdam    \n",
       "...                        ...                   ...   \n",
       "23774                Nederland   euronext Amsterdam    \n",
       "23775                Nederland   euronext Amsterdam    \n",
       "23776                Nederland   euronext Amsterdam    \n",
       "23777                Nederland   euronext Amsterdam    \n",
       "23778                Nederland   euronext Amsterdam    \n",
       "\n",
       "                      Index naam   Periode   waarde  \n",
       "4129                  AEX-index  2006-04-03  471.33  \n",
       "4130                  AEX-index  2006-04-04  467.95  \n",
       "4131                  AEX-index  2006-04-05  468.53  \n",
       "4132                  AEX-index  2006-04-06  469.60  \n",
       "4133                  AEX-index  2006-04-07  468.68  \n",
       "...                          ...        ...     ...  \n",
       "23774  FinanciÃ«le instellingen  2006-04-24  633.04  \n",
       "23775  FinanciÃ«le instellingen  2006-04-25  638.36  \n",
       "23776  FinanciÃ«le instellingen  2006-04-26  637.71  \n",
       "23777  FinanciÃ«le instellingen  2006-04-27  631.99  \n",
       "23778  FinanciÃ«le instellingen  2006-04-28  625.58  \n",
       "\n",
       "[72 rows x 5 columns]"
      ]
     },
     "execution_count": 8,
     "metadata": {},
     "output_type": "execute_result"
    }
   ],
   "source": [
    "april_2006 = data.loc[(data['Nationaal/internationaal']=='Nederland') &\n",
    "                      (data['Periode '].astype('str').str.contains('2006-04')), :]\n",
    "\n",
    "april_2006"
   ]
  },
  {
   "cell_type": "markdown",
   "metadata": {},
   "source": [
    "Nu wordt een draaitabel gemaakt met in de rijen de periode en in de kolommen de index naam"
   ]
  },
  {
   "cell_type": "code",
   "execution_count": 9,
   "metadata": {
    "ExecuteTime": {
     "end_time": "2022-10-05T11:37:39.622837Z",
     "start_time": "2022-10-05T11:37:39.597352Z"
    }
   },
   "outputs": [
    {
     "data": {
      "text/html": [
       "<div>\n",
       "<style scoped>\n",
       "    .dataframe tbody tr th:only-of-type {\n",
       "        vertical-align: middle;\n",
       "    }\n",
       "\n",
       "    .dataframe tbody tr th {\n",
       "        vertical-align: top;\n",
       "    }\n",
       "\n",
       "    .dataframe thead th {\n",
       "        text-align: right;\n",
       "    }\n",
       "</style>\n",
       "<table border=\"1\" class=\"dataframe\">\n",
       "  <thead>\n",
       "    <tr style=\"text-align: right;\">\n",
       "      <th>Index naam</th>\n",
       "      <th>AEX-index</th>\n",
       "      <th>All-share index</th>\n",
       "      <th>FinanciÃ«le instellingen</th>\n",
       "      <th>Midkap-index</th>\n",
       "    </tr>\n",
       "    <tr>\n",
       "      <th>Periode</th>\n",
       "      <th></th>\n",
       "      <th></th>\n",
       "      <th></th>\n",
       "      <th></th>\n",
       "    </tr>\n",
       "  </thead>\n",
       "  <tbody>\n",
       "    <tr>\n",
       "      <th>2006-04-03</th>\n",
       "      <td>471.33</td>\n",
       "      <td>706.21</td>\n",
       "      <td>639.00</td>\n",
       "      <td>632.24</td>\n",
       "    </tr>\n",
       "    <tr>\n",
       "      <th>2006-04-04</th>\n",
       "      <td>467.95</td>\n",
       "      <td>701.33</td>\n",
       "      <td>633.78</td>\n",
       "      <td>627.23</td>\n",
       "    </tr>\n",
       "    <tr>\n",
       "      <th>2006-04-05</th>\n",
       "      <td>468.53</td>\n",
       "      <td>702.80</td>\n",
       "      <td>633.18</td>\n",
       "      <td>627.50</td>\n",
       "    </tr>\n",
       "    <tr>\n",
       "      <th>2006-04-06</th>\n",
       "      <td>469.60</td>\n",
       "      <td>705.01</td>\n",
       "      <td>634.17</td>\n",
       "      <td>633.78</td>\n",
       "    </tr>\n",
       "    <tr>\n",
       "      <th>2006-04-07</th>\n",
       "      <td>468.68</td>\n",
       "      <td>704.24</td>\n",
       "      <td>628.71</td>\n",
       "      <td>634.93</td>\n",
       "    </tr>\n",
       "    <tr>\n",
       "      <th>2006-04-10</th>\n",
       "      <td>470.66</td>\n",
       "      <td>707.55</td>\n",
       "      <td>630.13</td>\n",
       "      <td>634.29</td>\n",
       "    </tr>\n",
       "    <tr>\n",
       "      <th>2006-04-11</th>\n",
       "      <td>464.14</td>\n",
       "      <td>698.98</td>\n",
       "      <td>618.96</td>\n",
       "      <td>625.28</td>\n",
       "    </tr>\n",
       "    <tr>\n",
       "      <th>2006-04-12</th>\n",
       "      <td>463.62</td>\n",
       "      <td>697.31</td>\n",
       "      <td>618.81</td>\n",
       "      <td>619.64</td>\n",
       "    </tr>\n",
       "    <tr>\n",
       "      <th>2006-04-13</th>\n",
       "      <td>462.76</td>\n",
       "      <td>697.00</td>\n",
       "      <td>617.13</td>\n",
       "      <td>623.26</td>\n",
       "    </tr>\n",
       "    <tr>\n",
       "      <th>2006-04-18</th>\n",
       "      <td>462.73</td>\n",
       "      <td>697.88</td>\n",
       "      <td>617.57</td>\n",
       "      <td>626.15</td>\n",
       "    </tr>\n",
       "    <tr>\n",
       "      <th>2006-04-19</th>\n",
       "      <td>468.86</td>\n",
       "      <td>706.04</td>\n",
       "      <td>626.97</td>\n",
       "      <td>632.66</td>\n",
       "    </tr>\n",
       "    <tr>\n",
       "      <th>2006-04-20</th>\n",
       "      <td>472.64</td>\n",
       "      <td>710.17</td>\n",
       "      <td>632.35</td>\n",
       "      <td>634.05</td>\n",
       "    </tr>\n",
       "    <tr>\n",
       "      <th>2006-04-21</th>\n",
       "      <td>478.00</td>\n",
       "      <td>718.12</td>\n",
       "      <td>637.51</td>\n",
       "      <td>637.19</td>\n",
       "    </tr>\n",
       "    <tr>\n",
       "      <th>2006-04-24</th>\n",
       "      <td>475.64</td>\n",
       "      <td>715.73</td>\n",
       "      <td>633.04</td>\n",
       "      <td>636.85</td>\n",
       "    </tr>\n",
       "    <tr>\n",
       "      <th>2006-04-25</th>\n",
       "      <td>476.04</td>\n",
       "      <td>716.33</td>\n",
       "      <td>638.36</td>\n",
       "      <td>638.20</td>\n",
       "    </tr>\n",
       "    <tr>\n",
       "      <th>2006-04-26</th>\n",
       "      <td>477.47</td>\n",
       "      <td>718.24</td>\n",
       "      <td>637.71</td>\n",
       "      <td>638.95</td>\n",
       "    </tr>\n",
       "    <tr>\n",
       "      <th>2006-04-27</th>\n",
       "      <td>474.44</td>\n",
       "      <td>712.17</td>\n",
       "      <td>631.99</td>\n",
       "      <td>628.40</td>\n",
       "    </tr>\n",
       "    <tr>\n",
       "      <th>2006-04-28</th>\n",
       "      <td>469.40</td>\n",
       "      <td>705.22</td>\n",
       "      <td>625.58</td>\n",
       "      <td>622.95</td>\n",
       "    </tr>\n",
       "  </tbody>\n",
       "</table>\n",
       "</div>"
      ],
      "text/plain": [
       "Index naam  AEX-index   All-share index   FinanciÃ«le instellingen   \\\n",
       "Periode                                                               \n",
       "2006-04-03      471.33            706.21                     639.00   \n",
       "2006-04-04      467.95            701.33                     633.78   \n",
       "2006-04-05      468.53            702.80                     633.18   \n",
       "2006-04-06      469.60            705.01                     634.17   \n",
       "2006-04-07      468.68            704.24                     628.71   \n",
       "2006-04-10      470.66            707.55                     630.13   \n",
       "2006-04-11      464.14            698.98                     618.96   \n",
       "2006-04-12      463.62            697.31                     618.81   \n",
       "2006-04-13      462.76            697.00                     617.13   \n",
       "2006-04-18      462.73            697.88                     617.57   \n",
       "2006-04-19      468.86            706.04                     626.97   \n",
       "2006-04-20      472.64            710.17                     632.35   \n",
       "2006-04-21      478.00            718.12                     637.51   \n",
       "2006-04-24      475.64            715.73                     633.04   \n",
       "2006-04-25      476.04            716.33                     638.36   \n",
       "2006-04-26      477.47            718.24                     637.71   \n",
       "2006-04-27      474.44            712.17                     631.99   \n",
       "2006-04-28      469.40            705.22                     625.58   \n",
       "\n",
       "Index naam  Midkap-index   \n",
       "Periode                    \n",
       "2006-04-03         632.24  \n",
       "2006-04-04         627.23  \n",
       "2006-04-05         627.50  \n",
       "2006-04-06         633.78  \n",
       "2006-04-07         634.93  \n",
       "2006-04-10         634.29  \n",
       "2006-04-11         625.28  \n",
       "2006-04-12         619.64  \n",
       "2006-04-13         623.26  \n",
       "2006-04-18         626.15  \n",
       "2006-04-19         632.66  \n",
       "2006-04-20         634.05  \n",
       "2006-04-21         637.19  \n",
       "2006-04-24         636.85  \n",
       "2006-04-25         638.20  \n",
       "2006-04-26         638.95  \n",
       "2006-04-27         628.40  \n",
       "2006-04-28         622.95  "
      ]
     },
     "execution_count": 9,
     "metadata": {},
     "output_type": "execute_result"
    }
   ],
   "source": [
    "pd.pivot_table(april_2006, index='Periode ', columns='Index naam', values='waarde')"
   ]
  },
  {
   "cell_type": "markdown",
   "metadata": {},
   "source": [
    "Zoals je ziet worden nu automatisch de waarden weergegeven in de draaitabel. Dit komt omdat de draaitabel standaard bij numerieke waarden de waarde optelt, omdat per periode en naam elke waarde maar 1 keer voorkomt wordt nu toevallig de goede waarde weergegeven.\n",
    "We kunnen bijvoorbeeld de gemiddelde waarde per index berekenen voor alle dagen in de maand april 2006 door aggfunc als argument aan de functie toe te voegen."
   ]
  },
  {
   "cell_type": "code",
   "execution_count": 10,
   "metadata": {
    "ExecuteTime": {
     "end_time": "2022-10-05T09:57:37.881672Z",
     "start_time": "2022-10-05T09:57:37.867710Z"
    }
   },
   "outputs": [
    {
     "data": {
      "text/html": [
       "<div>\n",
       "<style scoped>\n",
       "    .dataframe tbody tr th:only-of-type {\n",
       "        vertical-align: middle;\n",
       "    }\n",
       "\n",
       "    .dataframe tbody tr th {\n",
       "        vertical-align: top;\n",
       "    }\n",
       "\n",
       "    .dataframe thead th {\n",
       "        text-align: right;\n",
       "    }\n",
       "</style>\n",
       "<table border=\"1\" class=\"dataframe\">\n",
       "  <thead>\n",
       "    <tr style=\"text-align: right;\">\n",
       "      <th></th>\n",
       "      <th>waarde</th>\n",
       "    </tr>\n",
       "    <tr>\n",
       "      <th>Periode</th>\n",
       "      <th></th>\n",
       "    </tr>\n",
       "  </thead>\n",
       "  <tbody>\n",
       "    <tr>\n",
       "      <th>2006-04-03</th>\n",
       "      <td>612.1950</td>\n",
       "    </tr>\n",
       "    <tr>\n",
       "      <th>2006-04-04</th>\n",
       "      <td>607.5725</td>\n",
       "    </tr>\n",
       "    <tr>\n",
       "      <th>2006-04-05</th>\n",
       "      <td>608.0025</td>\n",
       "    </tr>\n",
       "    <tr>\n",
       "      <th>2006-04-06</th>\n",
       "      <td>610.6400</td>\n",
       "    </tr>\n",
       "    <tr>\n",
       "      <th>2006-04-07</th>\n",
       "      <td>609.1400</td>\n",
       "    </tr>\n",
       "    <tr>\n",
       "      <th>2006-04-10</th>\n",
       "      <td>610.6575</td>\n",
       "    </tr>\n",
       "    <tr>\n",
       "      <th>2006-04-11</th>\n",
       "      <td>601.8400</td>\n",
       "    </tr>\n",
       "    <tr>\n",
       "      <th>2006-04-12</th>\n",
       "      <td>599.8450</td>\n",
       "    </tr>\n",
       "    <tr>\n",
       "      <th>2006-04-13</th>\n",
       "      <td>600.0375</td>\n",
       "    </tr>\n",
       "    <tr>\n",
       "      <th>2006-04-18</th>\n",
       "      <td>601.0825</td>\n",
       "    </tr>\n",
       "    <tr>\n",
       "      <th>2006-04-19</th>\n",
       "      <td>608.6325</td>\n",
       "    </tr>\n",
       "    <tr>\n",
       "      <th>2006-04-20</th>\n",
       "      <td>612.3025</td>\n",
       "    </tr>\n",
       "    <tr>\n",
       "      <th>2006-04-21</th>\n",
       "      <td>617.7050</td>\n",
       "    </tr>\n",
       "    <tr>\n",
       "      <th>2006-04-24</th>\n",
       "      <td>615.3150</td>\n",
       "    </tr>\n",
       "    <tr>\n",
       "      <th>2006-04-25</th>\n",
       "      <td>617.2325</td>\n",
       "    </tr>\n",
       "    <tr>\n",
       "      <th>2006-04-26</th>\n",
       "      <td>618.0925</td>\n",
       "    </tr>\n",
       "    <tr>\n",
       "      <th>2006-04-27</th>\n",
       "      <td>611.7500</td>\n",
       "    </tr>\n",
       "    <tr>\n",
       "      <th>2006-04-28</th>\n",
       "      <td>605.7875</td>\n",
       "    </tr>\n",
       "  </tbody>\n",
       "</table>\n",
       "</div>"
      ],
      "text/plain": [
       "              waarde\n",
       "Periode             \n",
       "2006-04-03  612.1950\n",
       "2006-04-04  607.5725\n",
       "2006-04-05  608.0025\n",
       "2006-04-06  610.6400\n",
       "2006-04-07  609.1400\n",
       "2006-04-10  610.6575\n",
       "2006-04-11  601.8400\n",
       "2006-04-12  599.8450\n",
       "2006-04-13  600.0375\n",
       "2006-04-18  601.0825\n",
       "2006-04-19  608.6325\n",
       "2006-04-20  612.3025\n",
       "2006-04-21  617.7050\n",
       "2006-04-24  615.3150\n",
       "2006-04-25  617.2325\n",
       "2006-04-26  618.0925\n",
       "2006-04-27  611.7500\n",
       "2006-04-28  605.7875"
      ]
     },
     "execution_count": 10,
     "metadata": {},
     "output_type": "execute_result"
    }
   ],
   "source": [
    "pd.pivot_table(april_2006, index='Periode ', values='waarde', aggfunc='mean')"
   ]
  },
  {
   "cell_type": "code",
   "execution_count": null,
   "metadata": {},
   "outputs": [],
   "source": []
  }
 ],
 "metadata": {
  "kernelspec": {
   "display_name": "Python 3 (ipykernel)",
   "language": "python",
   "name": "python3"
  },
  "language_info": {
   "codemirror_mode": {
    "name": "ipython",
    "version": 3
   },
   "file_extension": ".py",
   "mimetype": "text/x-python",
   "name": "python",
   "nbconvert_exporter": "python",
   "pygments_lexer": "ipython3",
   "version": "3.9.13"
  },
  "varInspector": {
   "cols": {
    "lenName": 16,
    "lenType": 16,
    "lenVar": 40
   },
   "kernels_config": {
    "python": {
     "delete_cmd_postfix": "",
     "delete_cmd_prefix": "del ",
     "library": "var_list.py",
     "varRefreshCmd": "print(var_dic_list())"
    },
    "r": {
     "delete_cmd_postfix": ") ",
     "delete_cmd_prefix": "rm(",
     "library": "var_list.r",
     "varRefreshCmd": "cat(var_dic_list()) "
    }
   },
   "types_to_exclude": [
    "module",
    "function",
    "builtin_function_or_method",
    "instance",
    "_Feature"
   ],
   "window_display": false
  }
 },
 "nbformat": 4,
 "nbformat_minor": 2
}
