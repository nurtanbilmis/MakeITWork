{
 "cells": [
  {
   "cell_type": "markdown",
   "metadata": {},
   "source": [
    "# Voorbeeldopdracht week 9"
   ]
  },
  {
   "cell_type": "code",
   "execution_count": 1,
   "metadata": {},
   "outputs": [],
   "source": [
    "import pandas as pd"
   ]
  },
  {
   "cell_type": "markdown",
   "metadata": {},
   "source": [
    "Hieronder worden enkele basisanalyses uitgelegd in Python. \n",
    "De dataset is een CBS dataset over werkgelegenheid. De kolommen zijn \n",
    "* geslacht, \n",
    "* bedrijfstak, \n",
    "* Perioden, in jaren, \n",
    "* Onderwerp, welke manier om werkgelegenheid te meten\n",
    "* Waarde, de uiteindelijke waarde. Bij aantallen in duizenden, bij uren in miljoen uren"
   ]
  },
  {
   "cell_type": "code",
   "execution_count": 7,
   "metadata": {},
   "outputs": [
    {
     "data": {
      "text/html": [
       "<div>\n",
       "<style scoped>\n",
       "    .dataframe tbody tr th:only-of-type {\n",
       "        vertical-align: middle;\n",
       "    }\n",
       "\n",
       "    .dataframe tbody tr th {\n",
       "        vertical-align: top;\n",
       "    }\n",
       "\n",
       "    .dataframe thead th {\n",
       "        text-align: right;\n",
       "    }\n",
       "</style>\n",
       "<table border=\"1\" class=\"dataframe\">\n",
       "  <thead>\n",
       "    <tr style=\"text-align: right;\">\n",
       "      <th></th>\n",
       "      <th>Geslacht</th>\n",
       "      <th>Bedrijfstakken/branches (SBI 2008)</th>\n",
       "      <th>Perioden</th>\n",
       "      <th>Onderwerp</th>\n",
       "      <th>Type werkenden</th>\n",
       "      <th>Waarde</th>\n",
       "    </tr>\n",
       "  </thead>\n",
       "  <tbody>\n",
       "    <tr>\n",
       "      <th>0</th>\n",
       "      <td>Mannen</td>\n",
       "      <td>A Landbouw, bosbouw en visserij</td>\n",
       "      <td>2013</td>\n",
       "      <td>Werkzame personen</td>\n",
       "      <td>Werknemers</td>\n",
       "      <td>68</td>\n",
       "    </tr>\n",
       "    <tr>\n",
       "      <th>1</th>\n",
       "      <td>Mannen</td>\n",
       "      <td>A Landbouw, bosbouw en visserij</td>\n",
       "      <td>2013</td>\n",
       "      <td>Werkzame personen</td>\n",
       "      <td>Zelfstandigen</td>\n",
       "      <td>66</td>\n",
       "    </tr>\n",
       "    <tr>\n",
       "      <th>2</th>\n",
       "      <td>Mannen</td>\n",
       "      <td>A Landbouw, bosbouw en visserij</td>\n",
       "      <td>2013</td>\n",
       "      <td>Banen</td>\n",
       "      <td>Werknemers</td>\n",
       "      <td>75</td>\n",
       "    </tr>\n",
       "    <tr>\n",
       "      <th>3</th>\n",
       "      <td>Mannen</td>\n",
       "      <td>A Landbouw, bosbouw en visserij</td>\n",
       "      <td>2013</td>\n",
       "      <td>Banen</td>\n",
       "      <td>Zelfstandigen</td>\n",
       "      <td>89</td>\n",
       "    </tr>\n",
       "    <tr>\n",
       "      <th>4</th>\n",
       "      <td>Mannen</td>\n",
       "      <td>A Landbouw, bosbouw en visserij</td>\n",
       "      <td>2013</td>\n",
       "      <td>Arbeidsjaren</td>\n",
       "      <td>Werknemers</td>\n",
       "      <td>56</td>\n",
       "    </tr>\n",
       "    <tr>\n",
       "      <th>...</th>\n",
       "      <td>...</td>\n",
       "      <td>...</td>\n",
       "      <td>...</td>\n",
       "      <td>...</td>\n",
       "      <td>...</td>\n",
       "      <td>...</td>\n",
       "    </tr>\n",
       "    <tr>\n",
       "      <th>1915</th>\n",
       "      <td>Vrouwen</td>\n",
       "      <td>T Huishoudens</td>\n",
       "      <td>2018</td>\n",
       "      <td>Banen</td>\n",
       "      <td>Zelfstandigen</td>\n",
       "      <td>0</td>\n",
       "    </tr>\n",
       "    <tr>\n",
       "      <th>1916</th>\n",
       "      <td>Vrouwen</td>\n",
       "      <td>T Huishoudens</td>\n",
       "      <td>2018</td>\n",
       "      <td>Arbeidsjaren</td>\n",
       "      <td>Werknemers</td>\n",
       "      <td>13</td>\n",
       "    </tr>\n",
       "    <tr>\n",
       "      <th>1917</th>\n",
       "      <td>Vrouwen</td>\n",
       "      <td>T Huishoudens</td>\n",
       "      <td>2018</td>\n",
       "      <td>Arbeidsjaren</td>\n",
       "      <td>Zelfstandigen</td>\n",
       "      <td>0</td>\n",
       "    </tr>\n",
       "    <tr>\n",
       "      <th>1918</th>\n",
       "      <td>Vrouwen</td>\n",
       "      <td>T Huishoudens</td>\n",
       "      <td>2018</td>\n",
       "      <td>Gewerkte uren</td>\n",
       "      <td>Werknemers</td>\n",
       "      <td>23</td>\n",
       "    </tr>\n",
       "    <tr>\n",
       "      <th>1919</th>\n",
       "      <td>Vrouwen</td>\n",
       "      <td>T Huishoudens</td>\n",
       "      <td>2018</td>\n",
       "      <td>Gewerkte uren</td>\n",
       "      <td>Zelfstandigen</td>\n",
       "      <td>0</td>\n",
       "    </tr>\n",
       "  </tbody>\n",
       "</table>\n",
       "<p>1920 rows × 6 columns</p>\n",
       "</div>"
      ],
      "text/plain": [
       "     Geslacht Bedrijfstakken/branches (SBI 2008)  Perioden          Onderwerp  \\\n",
       "0      Mannen    A Landbouw, bosbouw en visserij      2013  Werkzame personen   \n",
       "1      Mannen    A Landbouw, bosbouw en visserij      2013  Werkzame personen   \n",
       "2      Mannen    A Landbouw, bosbouw en visserij      2013              Banen   \n",
       "3      Mannen    A Landbouw, bosbouw en visserij      2013              Banen   \n",
       "4      Mannen    A Landbouw, bosbouw en visserij      2013       Arbeidsjaren   \n",
       "...       ...                                ...       ...                ...   \n",
       "1915  Vrouwen                      T Huishoudens      2018              Banen   \n",
       "1916  Vrouwen                      T Huishoudens      2018       Arbeidsjaren   \n",
       "1917  Vrouwen                      T Huishoudens      2018       Arbeidsjaren   \n",
       "1918  Vrouwen                      T Huishoudens      2018      Gewerkte uren   \n",
       "1919  Vrouwen                      T Huishoudens      2018      Gewerkte uren   \n",
       "\n",
       "     Type werkenden  Waarde  \n",
       "0        Werknemers      68  \n",
       "1     Zelfstandigen      66  \n",
       "2        Werknemers      75  \n",
       "3     Zelfstandigen      89  \n",
       "4        Werknemers      56  \n",
       "...             ...     ...  \n",
       "1915  Zelfstandigen       0  \n",
       "1916     Werknemers      13  \n",
       "1917  Zelfstandigen       0  \n",
       "1918     Werknemers      23  \n",
       "1919  Zelfstandigen       0  \n",
       "\n",
       "[1920 rows x 6 columns]"
      ]
     },
     "execution_count": 7,
     "metadata": {},
     "output_type": "execute_result"
    }
   ],
   "source": [
    "# Inlezen\n",
    "data = pd.read_csv('Dataset1 week 9.csv', sep=';')\n",
    "data"
   ]
  },
  {
   "cell_type": "code",
   "execution_count": 8,
   "metadata": {},
   "outputs": [
    {
     "data": {
      "text/plain": [
       "(1920, 6)"
      ]
     },
     "execution_count": 8,
     "metadata": {},
     "output_type": "execute_result"
    }
   ],
   "source": [
    "# Aantallen rijen en kolommen\n",
    "data.shape"
   ]
  },
  {
   "cell_type": "code",
   "execution_count": 10,
   "metadata": {},
   "outputs": [
    {
     "name": "stdout",
     "output_type": "stream",
     "text": [
      "['Mannen' 'Vrouwen']\n",
      "['A Landbouw, bosbouw en visserij' 'B Delfstoffenwinning' 'C Industrie'\n",
      " 'D Energievoorziening' 'E Waterbedrijven en afvalbeheer'\n",
      " 'F Bouwnijverheid' 'G Handel' 'H Vervoer en opslag' 'I Horeca'\n",
      " 'J Informatie en communicatie' 'K Financiële dienstverlening'\n",
      " 'L Verhuur en handel van onroerend goed'\n",
      " 'M Specialistische zakelijke diensten'\n",
      " 'N Verhuur en overige zakelijke diensten'\n",
      " 'O Openbaar bestuur en overheidsdiensten' 'P Onderwijs'\n",
      " 'Q Gezondheids- en welzijnszorg' 'R Cultuur, sport en recreatie'\n",
      " 'S Overige dienstverlening' 'T Huishoudens']\n",
      "[2013 2014 2015 2016 2017 2018]\n",
      "['Werkzame personen' 'Banen' 'Arbeidsjaren' 'Gewerkte uren']\n",
      "['Werknemers' 'Zelfstandigen']\n"
     ]
    },
    {
     "data": {
      "text/plain": [
       "array([2013, 2014, 2015, 2016, 2017, 2018], dtype=int64)"
      ]
     },
     "execution_count": 10,
     "metadata": {},
     "output_type": "execute_result"
    }
   ],
   "source": [
    "# Unieke categorien per kolom\n",
    "for kolom in ['Geslacht', 'Bedrijfstakken/branches (SBI 2008)', 'Perioden', 'Onderwerp', 'Type werkenden']:\n",
    "    print(data[kolom].unique())\n",
    "\n",
    "data['Perioden'].unique()"
   ]
  },
  {
   "cell_type": "code",
   "execution_count": 16,
   "metadata": {},
   "outputs": [
    {
     "data": {
      "text/plain": [
       "Geslacht                              0\n",
       "Bedrijfstakken/branches (SBI 2008)    0\n",
       "Perioden                              0\n",
       "Onderwerp                             0\n",
       "Type werkenden                        0\n",
       "Waarde                                0\n",
       "dtype: int64"
      ]
     },
     "execution_count": 16,
     "metadata": {},
     "output_type": "execute_result"
    }
   ],
   "source": [
    "# Check voor missende waarden\n",
    "\n",
    "data.isna().sum()"
   ]
  },
  {
   "cell_type": "code",
   "execution_count": 33,
   "metadata": {},
   "outputs": [
    {
     "data": {
      "text/plain": [
       "9155"
      ]
     },
     "execution_count": 33,
     "metadata": {},
     "output_type": "execute_result"
    }
   ],
   "source": [
    "# Aantal Werkzame in 2017\n",
    "data.loc[(data['Perioden']==2017) & (data['Onderwerp']=='Werkzame personen'), 'Waarde'].sum()\n",
    "\n",
    "data[(data[\"Perioden\"] ==2017) & (data[\"Onderwerp\"] == \"Werkzame personen\")][\"Waarde\"].sum()"
   ]
  },
  {
   "cell_type": "code",
   "execution_count": 34,
   "metadata": {},
   "outputs": [
    {
     "data": {
      "text/plain": [
       "286"
      ]
     },
     "execution_count": 34,
     "metadata": {},
     "output_type": "execute_result"
    }
   ],
   "source": [
    "# Minimaal aantal banen in Informatie en communicatie over de jaren\n",
    "# Eerst filteren\n",
    "data2 = data.loc[(data['Bedrijfstakken/branches (SBI 2008)']=='J Informatie en communicatie') & \n",
    "                 (data['Onderwerp']=='Banen'), :] \n",
    "# Daarna optellen per jaar\n",
    "data3 = data2.groupby(['Perioden'])['Waarde'].sum().reset_index()\n",
    "# Dan minimum berekenen\n",
    "data3['Waarde'].min()"
   ]
  },
  {
   "cell_type": "code",
   "execution_count": 35,
   "metadata": {},
   "outputs": [
    {
     "data": {
      "text/html": [
       "<div>\n",
       "<style scoped>\n",
       "    .dataframe tbody tr th:only-of-type {\n",
       "        vertical-align: middle;\n",
       "    }\n",
       "\n",
       "    .dataframe tbody tr th {\n",
       "        vertical-align: top;\n",
       "    }\n",
       "\n",
       "    .dataframe thead th {\n",
       "        text-align: right;\n",
       "    }\n",
       "</style>\n",
       "<table border=\"1\" class=\"dataframe\">\n",
       "  <thead>\n",
       "    <tr style=\"text-align: right;\">\n",
       "      <th></th>\n",
       "      <th>Geslacht</th>\n",
       "      <th>Mannen</th>\n",
       "      <th>Vrouwen</th>\n",
       "    </tr>\n",
       "    <tr>\n",
       "      <th>Perioden</th>\n",
       "      <th>Onderwerp</th>\n",
       "      <th></th>\n",
       "      <th></th>\n",
       "    </tr>\n",
       "  </thead>\n",
       "  <tbody>\n",
       "    <tr>\n",
       "      <th>2013</th>\n",
       "      <th>Gewerkte uren</th>\n",
       "      <td>286</td>\n",
       "      <td>365</td>\n",
       "    </tr>\n",
       "    <tr>\n",
       "      <th>2014</th>\n",
       "      <th>Gewerkte uren</th>\n",
       "      <td>286</td>\n",
       "      <td>372</td>\n",
       "    </tr>\n",
       "    <tr>\n",
       "      <th>2015</th>\n",
       "      <th>Gewerkte uren</th>\n",
       "      <td>285</td>\n",
       "      <td>379</td>\n",
       "    </tr>\n",
       "    <tr>\n",
       "      <th>2016</th>\n",
       "      <th>Gewerkte uren</th>\n",
       "      <td>288</td>\n",
       "      <td>394</td>\n",
       "    </tr>\n",
       "    <tr>\n",
       "      <th>2017</th>\n",
       "      <th>Gewerkte uren</th>\n",
       "      <td>292</td>\n",
       "      <td>402</td>\n",
       "    </tr>\n",
       "    <tr>\n",
       "      <th>2018</th>\n",
       "      <th>Gewerkte uren</th>\n",
       "      <td>296</td>\n",
       "      <td>411</td>\n",
       "    </tr>\n",
       "  </tbody>\n",
       "</table>\n",
       "</div>"
      ],
      "text/plain": [
       "Geslacht                Mannen  Vrouwen\n",
       "Perioden Onderwerp                     \n",
       "2013     Gewerkte uren     286      365\n",
       "2014     Gewerkte uren     286      372\n",
       "2015     Gewerkte uren     285      379\n",
       "2016     Gewerkte uren     288      394\n",
       "2017     Gewerkte uren     292      402\n",
       "2018     Gewerkte uren     296      411"
      ]
     },
     "execution_count": 35,
     "metadata": {},
     "output_type": "execute_result"
    }
   ],
   "source": [
    "# Meer gewerkte uren voor mannen of vrouwen in het onderwijs?\n",
    "# Eerst filteren\n",
    "data4 = data.loc[(data['Onderwerp']=='Gewerkte uren') & \n",
    "                 (data['Bedrijfstakken/branches (SBI 2008)']=='P Onderwijs'), :]\n",
    "# Dan draaitabel\n",
    "pd.pivot_table(data4, index=['Perioden', 'Onderwerp'], columns=['Geslacht'], values='Waarde', aggfunc='sum')"
   ]
  },
  {
   "cell_type": "code",
   "execution_count": 37,
   "metadata": {},
   "outputs": [
    {
     "data": {
      "text/html": [
       "<div>\n",
       "<style scoped>\n",
       "    .dataframe tbody tr th:only-of-type {\n",
       "        vertical-align: middle;\n",
       "    }\n",
       "\n",
       "    .dataframe tbody tr th {\n",
       "        vertical-align: top;\n",
       "    }\n",
       "\n",
       "    .dataframe thead th {\n",
       "        text-align: right;\n",
       "    }\n",
       "</style>\n",
       "<table border=\"1\" class=\"dataframe\">\n",
       "  <thead>\n",
       "    <tr style=\"text-align: right;\">\n",
       "      <th>Onderwerp</th>\n",
       "      <th>Perioden</th>\n",
       "      <th>Arbeidsjaren</th>\n",
       "      <th>Banen</th>\n",
       "      <th>Gewerkte uren</th>\n",
       "      <th>Werkzame personen</th>\n",
       "    </tr>\n",
       "  </thead>\n",
       "  <tbody>\n",
       "    <tr>\n",
       "      <th>0</th>\n",
       "      <td>2013</td>\n",
       "      <td>6937</td>\n",
       "      <td>9749</td>\n",
       "      <td>12352</td>\n",
       "      <td>8732</td>\n",
       "    </tr>\n",
       "    <tr>\n",
       "      <th>1</th>\n",
       "      <td>2014</td>\n",
       "      <td>6925</td>\n",
       "      <td>9758</td>\n",
       "      <td>12438</td>\n",
       "      <td>8725</td>\n",
       "    </tr>\n",
       "    <tr>\n",
       "      <th>2</th>\n",
       "      <td>2015</td>\n",
       "      <td>7013</td>\n",
       "      <td>9880</td>\n",
       "      <td>12560</td>\n",
       "      <td>8803</td>\n",
       "    </tr>\n",
       "    <tr>\n",
       "      <th>3</th>\n",
       "      <td>2016</td>\n",
       "      <td>7156</td>\n",
       "      <td>10037</td>\n",
       "      <td>12849</td>\n",
       "      <td>8940</td>\n",
       "    </tr>\n",
       "    <tr>\n",
       "      <th>4</th>\n",
       "      <td>2017</td>\n",
       "      <td>7345</td>\n",
       "      <td>10283</td>\n",
       "      <td>13157</td>\n",
       "      <td>9155</td>\n",
       "    </tr>\n",
       "    <tr>\n",
       "      <th>5</th>\n",
       "      <td>2018</td>\n",
       "      <td>7561</td>\n",
       "      <td>10564</td>\n",
       "      <td>13507</td>\n",
       "      <td>9409</td>\n",
       "    </tr>\n",
       "  </tbody>\n",
       "</table>\n",
       "</div>"
      ],
      "text/plain": [
       "Onderwerp  Perioden  Arbeidsjaren  Banen  Gewerkte uren  Werkzame personen\n",
       "0              2013          6937   9749          12352               8732\n",
       "1              2014          6925   9758          12438               8725\n",
       "2              2015          7013   9880          12560               8803\n",
       "3              2016          7156  10037          12849               8940\n",
       "4              2017          7345  10283          13157               9155\n",
       "5              2018          7561  10564          13507               9409"
      ]
     },
     "execution_count": 37,
     "metadata": {},
     "output_type": "execute_result"
    }
   ],
   "source": [
    "# Gewerkte uren en personen per jaar\n",
    "data5 = pd.pivot_table(data, index=['Perioden'], columns=['Onderwerp'], values='Waarde', aggfunc='sum').reset_index()\n",
    "data5"
   ]
  },
  {
   "cell_type": "code",
   "execution_count": 38,
   "metadata": {},
   "outputs": [
    {
     "data": {
      "text/plain": [
       "1.0899524290038922"
      ]
     },
     "execution_count": 38,
     "metadata": {},
     "output_type": "execute_result"
    }
   ],
   "source": [
    "# Procentuele stijging arbeidsjaren 2018-2013\n",
    "data5.loc[data5['Perioden'] == 2018, 'Arbeidsjaren'].values[0] / data5.loc[data5['Perioden'] == 2013, 'Arbeidsjaren'].values[0]"
   ]
  },
  {
   "cell_type": "code",
   "execution_count": 39,
   "metadata": {},
   "outputs": [
    {
     "data": {
      "text/plain": [
       "array([[1.08995243, 1.08359832, 1.09350712, 1.07753092]])"
      ]
     },
     "execution_count": 39,
     "metadata": {},
     "output_type": "execute_result"
    }
   ],
   "source": [
    "# Procentuele stijging alle typen\n",
    "data5.loc[data5['Perioden'] == 2018, ['Arbeidsjaren', 'Banen', 'Gewerkte uren', 'Werkzame personen']].values / data5.loc[data5['Perioden'] == 2013, ['Arbeidsjaren', 'Banen', 'Gewerkte uren', 'Werkzame personen']].values"
   ]
  },
  {
   "cell_type": "markdown",
   "metadata": {},
   "source": [
    "## Uitwerking vraag 5 huiswrkopdracht"
   ]
  },
  {
   "cell_type": "code",
   "execution_count": 40,
   "metadata": {},
   "outputs": [],
   "source": [
    "# Vergelijking zelfstandigen en werkenden\n",
    "for onderwerp in ['Werkzame personen' 'Banen' 'Arbeidsjaren' 'Gewerkte uren']:\n",
    "    data6 = pd.pivot_table(data, index=['Perioden', 'Onderwerp'], columns=['Type werkenden'], values='Waarde', aggfunc='sum').reset_index()\n",
    "    pd.DataFrame(data6.loc[data6['Perioden'] == 2018, ['Werknemers', 'Zelfstandigen']].values / data6.loc[data6['Perioden'] == 2013, ['Werknemers', 'Zelfstandigen']].values)"
   ]
  },
  {
   "cell_type": "code",
   "execution_count": 41,
   "metadata": {},
   "outputs": [
    {
     "data": {
      "text/html": [
       "<div>\n",
       "<style scoped>\n",
       "    .dataframe tbody tr th:only-of-type {\n",
       "        vertical-align: middle;\n",
       "    }\n",
       "\n",
       "    .dataframe tbody tr th {\n",
       "        vertical-align: top;\n",
       "    }\n",
       "\n",
       "    .dataframe thead th {\n",
       "        text-align: right;\n",
       "    }\n",
       "</style>\n",
       "<table border=\"1\" class=\"dataframe\">\n",
       "  <thead>\n",
       "    <tr style=\"text-align: right;\">\n",
       "      <th></th>\n",
       "      <th>0</th>\n",
       "      <th>1</th>\n",
       "    </tr>\n",
       "  </thead>\n",
       "  <tbody>\n",
       "    <tr>\n",
       "      <th>0</th>\n",
       "      <td>1.079931</td>\n",
       "      <td>1.141343</td>\n",
       "    </tr>\n",
       "    <tr>\n",
       "      <th>1</th>\n",
       "      <td>1.075654</td>\n",
       "      <td>1.114573</td>\n",
       "    </tr>\n",
       "    <tr>\n",
       "      <th>2</th>\n",
       "      <td>1.083900</td>\n",
       "      <td>1.131463</td>\n",
       "    </tr>\n",
       "    <tr>\n",
       "      <th>3</th>\n",
       "      <td>1.075783</td>\n",
       "      <td>1.086326</td>\n",
       "    </tr>\n",
       "  </tbody>\n",
       "</table>\n",
       "</div>"
      ],
      "text/plain": [
       "          0         1\n",
       "0  1.079931  1.141343\n",
       "1  1.075654  1.114573\n",
       "2  1.083900  1.131463\n",
       "3  1.075783  1.086326"
      ]
     },
     "execution_count": 41,
     "metadata": {},
     "output_type": "execute_result"
    }
   ],
   "source": [
    "pd.DataFrame(data6.loc[data6['Perioden'] == 2018, ['Werknemers', 'Zelfstandigen']].values / data6.loc[data6['Perioden'] == 2013, ['Werknemers', 'Zelfstandigen']].values)"
   ]
  },
  {
   "cell_type": "code",
   "execution_count": null,
   "metadata": {},
   "outputs": [],
   "source": []
  }
 ],
 "metadata": {
  "kernelspec": {
   "display_name": "Python 3 (ipykernel)",
   "language": "python",
   "name": "python3"
  },
  "language_info": {
   "codemirror_mode": {
    "name": "ipython",
    "version": 3
   },
   "file_extension": ".py",
   "mimetype": "text/x-python",
   "name": "python",
   "nbconvert_exporter": "python",
   "pygments_lexer": "ipython3",
   "version": "3.9.13"
  }
 },
 "nbformat": 4,
 "nbformat_minor": 2
}
