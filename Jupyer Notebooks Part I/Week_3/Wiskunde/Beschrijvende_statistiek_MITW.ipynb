{
 "cells": [
  {
   "cell_type": "markdown",
   "id": "39ac5afc",
   "metadata": {},
   "source": [
    "# Beschrijvende statistiek"
   ]
  },
  {
   "cell_type": "markdown",
   "id": "d40fe59b",
   "metadata": {},
   "source": [
    "Statistiek is de techniek en wetenschap van het verzamelen en analyseren van numerieke data in grote hoeveelheden, met als doel inzicht te krijgen in een populatie op basis van een representatieve steekproef.\n",
    "\n",
    "In deze notebook wordt beschrijvende statistiek behandeld, dit is een tak van statistiek waarbij data wordt beschreven of samengevat middels tabellen en figuren. Verder geeft beschrijvende statistiek inzicht in welke middelen en technieken je kan gebruiken om de data te analyseren, om er de juiste informatie uit te halen. Beschrijvende statistiek wordt niet gebruikt om voorspellingen te doen of voor het toetsen van een vraagstelling. \n",
    "\n",
    "De belangrijkste aspecten zijn centrummaten, spreidingsmaten, frequentieverdelingen en correlaties (ofwel relaties en verbanden). In deze notebook gaan jullie aan de slag met deze aspecten van beschrijvende statistiek, middels praktische opdrachten. De opdrachten aan het einde van de notebook toetsen jouw kennis van beschrijvende statistiek. "
   ]
  },
  {
   "cell_type": "code",
   "execution_count": 1,
   "id": "4f2ad235",
   "metadata": {},
   "outputs": [],
   "source": [
    "# Library om YouTube videos te importeren \n",
    "\n",
    "from IPython.display import YouTubeVideo, Image"
   ]
  },
  {
   "cell_type": "markdown",
   "id": "e8efe447",
   "metadata": {},
   "source": [
    "## 1 Centrummaten\n",
    "Een eenvoudige manier om inzicht te krijgen in de data is om te kijken waar de data omheen gecentreerd is of waar de frequentie van datapunten het hoogste is. Er zijn drie verschillende centrummaten: de modus, mediaan en het gemiddelde. "
   ]
  },
  {
   "cell_type": "markdown",
   "id": "7316e816",
   "metadata": {},
   "source": [
    "### 1.1 Modus"
   ]
  },
  {
   "cell_type": "code",
   "execution_count": 2,
   "id": "06488498",
   "metadata": {},
   "outputs": [
    {
     "data": {
      "image/jpeg": "[encoded data removed]",
      "text/html": [
       "\n",
       "        <iframe\n",
       "            width=\"800\"\n",
       "            height=\"500\"\n",
       "            src=\"https://www.youtube.com/embed/-A7Oveo3TZI\"\n",
       "            frameborder=\"0\"\n",
       "            allowfullscreen\n",
       "            \n",
       "        ></iframe>\n",
       "        "
      ],
      "text/plain": [
       "<IPython.lib.display.YouTubeVideo at 0x2de8acf7370>"
      ]
     },
     "execution_count": 2,
     "metadata": {},
     "output_type": "execute_result"
    }
   ],
   "source": [
    "YouTubeVideo(\"-A7Oveo3TZI\", width=800, height=500)"
   ]
  },
  {
   "cell_type": "markdown",
   "id": "f1cf4c13",
   "metadata": {},
   "source": [
    "De modus is de waarde die het vaakst voorkomt in een rij met waarden. Je kan de modus gebruiken wanneer je dataset veel dezelfde waarden bevat en je de meest voorkomende wilt bepalen. Bekijk eens de volgende rij met waarden:"
   ]
  },
  {
   "cell_type": "code",
   "execution_count": 3,
   "id": "76ae9c6e",
   "metadata": {},
   "outputs": [],
   "source": [
    "data_values = [1, 3, 2, 5, 7, 0, 2, 3, 3]"
   ]
  },
  {
   "cell_type": "markdown",
   "id": "e7a2fad8",
   "metadata": {},
   "source": [
    "De modus is de meest voorkomende waarde, in dit geval het getal 3. Dit kunnen we makkelijk zijn: het getal 3 komt drie keer voor, de andere waarden komen minder dan drie keer voor. Hoe bepalen we de modus in Python?"
   ]
  },
  {
   "cell_type": "code",
   "execution_count": 4,
   "id": "13c6a7dd",
   "metadata": {},
   "outputs": [
    {
     "name": "stdout",
     "output_type": "stream",
     "text": [
      "De modus van deze lijst is 3\n"
     ]
    }
   ],
   "source": [
    "# Als eerste extraheren we alle unieke waarden in deze lijst, zodat we kunnen bepalen hoeveel dit er zijn.\n",
    "\n",
    "unique_values = set(data_values)\n",
    "\n",
    "# We gebruiken een for loop om voor elk van de unieke waarden te bepalen hoe vaak ze voorkomen in de oorsprongelijke lijst.\n",
    "# Als eerste definieren we een variabele waarin het aantal keer dat de waarde voorkomt in de lijst wordt opgeslagen.\n",
    "\n",
    "max_count = 0\n",
    "\n",
    "for item in unique_values:\n",
    "    count = data_values.count(item)\n",
    "    \n",
    "# Met dit if statement wordt de max_count variabele overschreven wanneer de unieke waarde vaker voorkomt dan de vorige.\n",
    "    if count > max_count:\n",
    "        max_count = count\n",
    "        mode = item\n",
    "\n",
    "        \n",
    "print(f\"De modus van deze lijst is {mode}\")"
   ]
  },
  {
   "cell_type": "markdown",
   "id": "f2d067d5",
   "metadata": {},
   "source": [
    "Een eenvoudigere manier om de modus te bepalen is door gebruik van de scipy library."
   ]
  },
  {
   "cell_type": "code",
   "execution_count": 5,
   "id": "da26b952",
   "metadata": {},
   "outputs": [
    {
     "name": "stdout",
     "output_type": "stream",
     "text": [
      "ModeResult(mode=array([3]), count=array([3]))\n"
     ]
    }
   ],
   "source": [
    "from scipy import stats as st\n",
    "print(st.mode(data_values))"
   ]
  },
  {
   "cell_type": "markdown",
   "id": "7b83ea26",
   "metadata": {},
   "source": [
    "### 1.2 Mediaan"
   ]
  },
  {
   "cell_type": "markdown",
   "id": "fc6fea82",
   "metadata": {},
   "source": [
    "Als we alle waarden van onze lijst rangschikken op volgorde (bijv. van klein naar groot), dan is de mediaan de waarde die precies in het midden ligt. Wanneer de lijst een even aantal waarden heeft, wordt de mediaan berekend door de som te nemen van de middelste twee getallen en deze vervolgens de delen door twee. Zo ziet dat er uit in Python:"
   ]
  },
  {
   "cell_type": "code",
   "execution_count": 6,
   "id": "7d148e47",
   "metadata": {},
   "outputs": [
    {
     "name": "stdout",
     "output_type": "stream",
     "text": [
      "[0, 1, 5, 7, 9, 10, 14]\n",
      "7\n"
     ]
    }
   ],
   "source": [
    "# Een lijst met het aantal huisdieren van elke collega\n",
    "\n",
    "sample = [0, 1, 5, 7, 9, 10, 14]\n",
    "\n",
    "# Een functie die de mediaan bepaald van een lijst met getallen.\n",
    "\n",
    "def median(values):\n",
    "    \n",
    "# Als eerste wordt de lijst gerangschikt van klein naar groot\n",
    "    ordered = sorted(values)\n",
    "    print(ordered)\n",
    "    \n",
    "# Hier wordt het middelste getal bepaald wanneer de lijst oneven aantal waarden heeft.\n",
    "# Bij een even aantal waarden, worden de twee middelste waarden bepaald.\n",
    "    n = len(ordered)\n",
    "    mid = int(n / 2) - 1 if n % 2 == 0 else int(n/2)\n",
    "\n",
    "# Het gemiddelde van de twee middelste waarden OF de middelste waarde wordt toegewezen. \n",
    "    if n % 2 == 0:\n",
    "        return (ordered[mid] + ordered[mid+1]) / 2.0\n",
    "    else:\n",
    "        return ordered[mid]\n",
    "\n",
    "print(median(sample))"
   ]
  },
  {
   "cell_type": "markdown",
   "id": "39eed381",
   "metadata": {},
   "source": [
    "Hier doen we dat met numpy. Dit is voornamelijk handig wanneer je met de pandas library werkt, aangezien kolommen met numerieke waarden in een pandas dataframe worden opgeslagen als numpy arrays:"
   ]
  },
  {
   "cell_type": "code",
   "execution_count": 7,
   "id": "7759e197",
   "metadata": {},
   "outputs": [],
   "source": [
    "import numpy as np"
   ]
  },
  {
   "cell_type": "code",
   "execution_count": 8,
   "id": "aa7409f4",
   "metadata": {},
   "outputs": [
    {
     "name": "stdout",
     "output_type": "stream",
     "text": [
      "7.0\n"
     ]
    }
   ],
   "source": [
    "print(np.median(sample))"
   ]
  },
  {
   "cell_type": "markdown",
   "id": "bddfbeba",
   "metadata": {},
   "source": [
    "### 1.3 Het gemiddelde en het gewogen gemiddelde"
   ]
  },
  {
   "cell_type": "code",
   "execution_count": 9,
   "id": "c06c328f",
   "metadata": {},
   "outputs": [
    {
     "data": {
      "image/jpeg": "[encoded data removed]",
      "text/html": [
       "\n",
       "        <iframe\n",
       "            width=\"800\"\n",
       "            height=\"500\"\n",
       "            src=\"https://www.youtube.com/embed/a-WOEJ0iS10\"\n",
       "            frameborder=\"0\"\n",
       "            allowfullscreen\n",
       "            \n",
       "        ></iframe>\n",
       "        "
      ],
      "text/plain": [
       "<IPython.lib.display.YouTubeVideo at 0x2de8d074130>"
      ]
     },
     "execution_count": 9,
     "metadata": {},
     "output_type": "execute_result"
    }
   ],
   "source": [
    "YouTubeVideo(\"a-WOEJ0iS10\", width=800, height=500)"
   ]
  },
  {
   "cell_type": "markdown",
   "id": "8fd6a051",
   "metadata": {},
   "source": [
    "Het gemiddelde is de som van alle waarden gedeeld door het aantal waarden. In Python kunnen met behulp van de sum() en len() functies het gemiddelde als volgt bepalen:"
   ]
  },
  {
   "cell_type": "code",
   "execution_count": 10,
   "id": "7dd1f1ef",
   "metadata": {},
   "outputs": [
    {
     "name": "stdout",
     "output_type": "stream",
     "text": [
      "Het gemiddelde van de lijst is 2.888888888888889\n"
     ]
    }
   ],
   "source": [
    "sum_values = sum(data_values)\n",
    "num_values = len(data_values)\n",
    "mean = sum_values / num_values\n",
    "\n",
    "print(f\"Het gemiddelde van de lijst is {mean}\")"
   ]
  },
  {
   "cell_type": "markdown",
   "id": "3c200564",
   "metadata": {},
   "source": [
    "Het gemiddelde kan ook berekend worden met behulp van de numpy library."
   ]
  },
  {
   "cell_type": "code",
   "execution_count": 11,
   "id": "4fda9b7a",
   "metadata": {},
   "outputs": [
    {
     "name": "stdout",
     "output_type": "stream",
     "text": [
      "Het gemiddelde van de lijst is 2.888888888888889\n"
     ]
    }
   ],
   "source": [
    "mean = np.mean(data_values)\n",
    "\n",
    "print(f\"Het gemiddelde van de lijst is {mean}\")"
   ]
  },
  {
   "cell_type": "markdown",
   "id": "959edaa8",
   "metadata": {},
   "source": [
    "Wanneer we het gemiddelde op deze wijze bepalen, stellen we dat elk datapunt even belangrijk is. Het kan zijn dat we meer waarde hechten aan sommige getallen in de lijst ten opzichte van andere. Stel: we hebben een lijst met toets scores van meerdere tussentoetsen en voor het eindcijfer telt een bepaalde toets score meer mee dan anderen. In dat geval kunnen we dit cijfer vermenigvuldigen met een factor, op basis van de waarde die we hechten aan die toets score, om zo meer 'gewicht' te geven aan dit cijfer. Het gewogen gemiddelde wordt berekend door elk datapunt (toets cijfer) te vermenigvuldigen met een factor, om vervolgens de som van de toets cijfers te delen door de som van de factoren:"
   ]
  },
  {
   "cell_type": "code",
   "execution_count": 12,
   "id": "8586fa32",
   "metadata": {},
   "outputs": [
    {
     "name": "stdout",
     "output_type": "stream",
     "text": [
      "81.4\n"
     ]
    }
   ],
   "source": [
    "# Drie toetsen met gewicht van 0.20 en een toets met 0.40\n",
    "scores = [90, 80, 63, 87]\n",
    "weights = [.20, .20, .20, .40]\n",
    "\n",
    "weighted_mean = sum(s * w for s,w in zip(scores, weights)) / sum(weights)\n",
    "\n",
    "print(weighted_mean)"
   ]
  },
  {
   "cell_type": "markdown",
   "id": "16917a3a",
   "metadata": {},
   "source": [
    "Hier wordt het gewogen gemiddelde berekend, met behulp van de numpy library:"
   ]
  },
  {
   "cell_type": "code",
   "execution_count": 13,
   "id": "72b3ffe2",
   "metadata": {},
   "outputs": [
    {
     "name": "stdout",
     "output_type": "stream",
     "text": [
      "Het gewogen gemiddelde van de toets scores is 81.4\n"
     ]
    }
   ],
   "source": [
    "weighted_mean = np.ma.average(scores, weights=weights)\n",
    "\n",
    "print(f\"Het gewogen gemiddelde van de toets scores is {weighted_mean}\")"
   ]
  },
  {
   "cell_type": "markdown",
   "id": "99e5ef17",
   "metadata": {},
   "source": [
    "### 1.4 Wanneer gebruik je de modus, mediaan of het gemiddelde?"
   ]
  },
  {
   "cell_type": "markdown",
   "id": "1549f9d8",
   "metadata": {},
   "source": [
    "De modus geeft weer welke waarde het vaakst voorkomt, dit kan je gebruiken wanneer jouw dataset veel dezelfde data bevat. De keuze voor de mediaan of het gemiddelde is wat ingewikkelder en heeft te maken met de spreiding van de data. De mediaan gebruik je wanneer je veel of grote afwijkende waarden in je dataset hebt, omdat de mediaan minder gevoelig hiervoor is (de mediaan is het middelste waarde van een data reeks). Wanneer de data geen of weinig afwijkende waarden heeft, kan je het gemiddelde gebruiken. Dit is een afweging die je zelf moet maken.\n",
    "\n",
    "Bekijk eens de verdeling van datapunten in de onderstaande afbeeldingen. Bij welke verdeling zou je kiezen voor de mediaan of voor het gemiddelde?"
   ]
  },
  {
   "cell_type": "code",
   "execution_count": 17,
   "id": "01ac7269",
   "metadata": {},
   "outputs": [
    {
     "data": {
      "text/html": [
       "<img src=\"https://brightspace.hhs.nl//content/enforced/15456-ADSAI-WISK1-22_2022_VT/Gaussian_distribution.png\" width=\"600\"/>"
      ],
      "text/plain": [
       "<IPython.core.display.Image object>"
      ]
     },
     "execution_count": 17,
     "metadata": {},
     "output_type": "execute_result"
    }
   ],
   "source": [
    "Image(url='https://brightspace.hhs.nl//content/enforced/15456-ADSAI-WISK1-22_2022_VT/Gaussian_distribution.png', width=600)\n",
    "# mean"
   ]
  },
  {
   "cell_type": "code",
   "execution_count": 18,
   "id": "ac9b1e14",
   "metadata": {},
   "outputs": [
    {
     "data": {
      "text/html": [
       "<img src=\"https://brightspace.hhs.nl//content/enforced/15456-ADSAI-WISK1-22_2022_VT/Pareto_crop.png\" width=\"600\"/>"
      ],
      "text/plain": [
       "<IPython.core.display.Image object>"
      ]
     },
     "execution_count": 18,
     "metadata": {},
     "output_type": "execute_result"
    }
   ],
   "source": [
    "Image(url='https://brightspace.hhs.nl//content/enforced/15456-ADSAI-WISK1-22_2022_VT/Pareto_crop.png', width=600)\n",
    "# mediaan"
   ]
  },
  {
   "cell_type": "markdown",
   "id": "e12937f5",
   "metadata": {},
   "source": [
    "## 2 Spreidingsmaten"
   ]
  },
  {
   "cell_type": "markdown",
   "id": "1bdc2da3",
   "metadata": {},
   "source": [
    "### 2.1 Variantie en standaard deviatie"
   ]
  },
  {
   "cell_type": "code",
   "execution_count": 19,
   "id": "1ca039a9",
   "metadata": {},
   "outputs": [
    {
     "data": {
      "image/jpeg": "[encoded data removed]",
      "text/html": [
       "\n",
       "        <iframe\n",
       "            width=\"800\"\n",
       "            height=\"500\"\n",
       "            src=\"https://www.youtube.com/embed/dKughXxLjus\"\n",
       "            frameborder=\"0\"\n",
       "            allowfullscreen\n",
       "            \n",
       "        ></iframe>\n",
       "        "
      ],
      "text/plain": [
       "<IPython.lib.display.YouTubeVideo at 0x2de8d074a30>"
      ]
     },
     "execution_count": 19,
     "metadata": {},
     "output_type": "execute_result"
    }
   ],
   "source": [
    "YouTubeVideo(\"dKughXxLjus\", width=800, height=500)"
   ]
  },
  {
   "cell_type": "markdown",
   "id": "f3ffa8e7",
   "metadata": {},
   "source": [
    "Wanneer we data willen beschrijven, zijn we vaak ook geïnteressseerd in de verschillen tussen het gemiddelde en elk datapunt. Dit geeft ons een idee hoe de data verspreid is. Het berekenen van het verschil tussen elk datapunt en het gemiddelde is de eerste stap in het bepalen van de variantie. \n",
    "\n",
    "Stel, we hebben een dataset met het aantal huisdieren dat jouw collega's hebben:"
   ]
  },
  {
   "cell_type": "code",
   "execution_count": 39,
   "id": "a18e3c24",
   "metadata": {},
   "outputs": [],
   "source": [
    "import pandas as pd"
   ]
  },
  {
   "cell_type": "code",
   "execution_count": 40,
   "id": "1098e534",
   "metadata": {},
   "outputs": [],
   "source": [
    "# Een lijst met het aantal huisdieren van elke collega\n",
    "data = [0, 1, 5, 7, 9, 10, 14]\n",
    "\n",
    "# Met behulp van pandas maken we een dataframe\n",
    "df = pd.DataFrame(data, columns=['Number of pets owned'])"
   ]
  },
  {
   "cell_type": "code",
   "execution_count": 41,
   "id": "c981bb67",
   "metadata": {},
   "outputs": [
    {
     "data": {
      "text/html": [
       "<div>\n",
       "<style scoped>\n",
       "    .dataframe tbody tr th:only-of-type {\n",
       "        vertical-align: middle;\n",
       "    }\n",
       "\n",
       "    .dataframe tbody tr th {\n",
       "        vertical-align: top;\n",
       "    }\n",
       "\n",
       "    .dataframe thead th {\n",
       "        text-align: right;\n",
       "    }\n",
       "</style>\n",
       "<table border=\"1\" class=\"dataframe\">\n",
       "  <thead>\n",
       "    <tr style=\"text-align: right;\">\n",
       "      <th></th>\n",
       "      <th>Number of pets owned</th>\n",
       "    </tr>\n",
       "  </thead>\n",
       "  <tbody>\n",
       "    <tr>\n",
       "      <th>0</th>\n",
       "      <td>0</td>\n",
       "    </tr>\n",
       "    <tr>\n",
       "      <th>1</th>\n",
       "      <td>1</td>\n",
       "    </tr>\n",
       "    <tr>\n",
       "      <th>2</th>\n",
       "      <td>5</td>\n",
       "    </tr>\n",
       "    <tr>\n",
       "      <th>3</th>\n",
       "      <td>7</td>\n",
       "    </tr>\n",
       "    <tr>\n",
       "      <th>4</th>\n",
       "      <td>9</td>\n",
       "    </tr>\n",
       "    <tr>\n",
       "      <th>5</th>\n",
       "      <td>10</td>\n",
       "    </tr>\n",
       "    <tr>\n",
       "      <th>6</th>\n",
       "      <td>14</td>\n",
       "    </tr>\n",
       "  </tbody>\n",
       "</table>\n",
       "</div>"
      ],
      "text/plain": [
       "   Number of pets owned\n",
       "0                     0\n",
       "1                     1\n",
       "2                     5\n",
       "3                     7\n",
       "4                     9\n",
       "5                    10\n",
       "6                    14"
      ]
     },
     "metadata": {},
     "output_type": "display_data"
    }
   ],
   "source": [
    "display(df)"
   ]
  },
  {
   "cell_type": "markdown",
   "id": "1f7a0cb3",
   "metadata": {},
   "source": [
    "We berekenen eerst het gemiddelde, waarna we deze van elk datapunt aftrekken."
   ]
  },
  {
   "cell_type": "code",
   "execution_count": 47,
   "id": "f05efb90",
   "metadata": {},
   "outputs": [
    {
     "data": {
      "text/plain": [
       "Number of pets owned             4.624690\n",
       "Difference from mean             4.624690\n",
       "Squared difference from mean    20.180072\n",
       "dtype: float64"
      ]
     },
     "execution_count": 47,
     "metadata": {},
     "output_type": "execute_result"
    }
   ],
   "source": [
    "test = df[:]\n",
    "np.std(test)"
   ]
  },
  {
   "cell_type": "code",
   "execution_count": 43,
   "id": "e87e177d",
   "metadata": {},
   "outputs": [
    {
     "data": {
      "text/html": [
       "<div>\n",
       "<style scoped>\n",
       "    .dataframe tbody tr th:only-of-type {\n",
       "        vertical-align: middle;\n",
       "    }\n",
       "\n",
       "    .dataframe tbody tr th {\n",
       "        vertical-align: top;\n",
       "    }\n",
       "\n",
       "    .dataframe thead th {\n",
       "        text-align: right;\n",
       "    }\n",
       "</style>\n",
       "<table border=\"1\" class=\"dataframe\">\n",
       "  <thead>\n",
       "    <tr style=\"text-align: right;\">\n",
       "      <th></th>\n",
       "      <th>Number of pets owned</th>\n",
       "      <th>Difference from mean</th>\n",
       "    </tr>\n",
       "  </thead>\n",
       "  <tbody>\n",
       "    <tr>\n",
       "      <th>0</th>\n",
       "      <td>0</td>\n",
       "      <td>-6.571429</td>\n",
       "    </tr>\n",
       "    <tr>\n",
       "      <th>1</th>\n",
       "      <td>1</td>\n",
       "      <td>-5.571429</td>\n",
       "    </tr>\n",
       "    <tr>\n",
       "      <th>2</th>\n",
       "      <td>5</td>\n",
       "      <td>-1.571429</td>\n",
       "    </tr>\n",
       "    <tr>\n",
       "      <th>3</th>\n",
       "      <td>7</td>\n",
       "      <td>0.428571</td>\n",
       "    </tr>\n",
       "    <tr>\n",
       "      <th>4</th>\n",
       "      <td>9</td>\n",
       "      <td>2.428571</td>\n",
       "    </tr>\n",
       "    <tr>\n",
       "      <th>5</th>\n",
       "      <td>10</td>\n",
       "      <td>3.428571</td>\n",
       "    </tr>\n",
       "    <tr>\n",
       "      <th>6</th>\n",
       "      <td>14</td>\n",
       "      <td>7.428571</td>\n",
       "    </tr>\n",
       "  </tbody>\n",
       "</table>\n",
       "</div>"
      ],
      "text/plain": [
       "   Number of pets owned  Difference from mean\n",
       "0                     0             -6.571429\n",
       "1                     1             -5.571429\n",
       "2                     5             -1.571429\n",
       "3                     7              0.428571\n",
       "4                     9              2.428571\n",
       "5                    10              3.428571\n",
       "6                    14              7.428571"
      ]
     },
     "metadata": {},
     "output_type": "display_data"
    }
   ],
   "source": [
    "# gemiddelde bepalen\n",
    "mean_pets = np.mean(df['Number of pets owned'])\n",
    "df['Difference from mean'] = df['Number of pets owned'] - mean_pets\n",
    "\n",
    "display(df)"
   ]
  },
  {
   "cell_type": "markdown",
   "id": "16318faa",
   "metadata": {},
   "source": [
    "Dit verschil geeft ons een idee over de spreiding en hoe ver de datapunten van het gemiddelde afliggen. Zou er een manier zijn om deze verschillen samen te vatten in een enkel getal, om zo een beeld te krijgen van de spreiding?\n",
    "\n",
    "Je zou misschien denken dat we het gemiddelde van de verschillen kunnen gebruiken, maar de positieve en negatieve getallen heffen elkaar op wanneer ze bij elkaar opgeteld worden. We zullen daarom eerst alle waarden kwadrateren (tot de macht 2), waarna we het gemiddelde berekenen, de waarde die hier uitkomt is de variantie. Deze geeft dus een beeld van de spreiding van de data. Hoe groter de variantie, des te groter de verschillen tussen de datapunten en het gemiddelde en daarmee zit er veel spreiding in de datapunten. Een kleinere waarde voor de variantie geeft dus het tegenovergestelde aan."
   ]
  },
  {
   "cell_type": "code",
   "execution_count": 44,
   "id": "ab03d486",
   "metadata": {},
   "outputs": [
    {
     "data": {
      "text/html": [
       "<div>\n",
       "<style scoped>\n",
       "    .dataframe tbody tr th:only-of-type {\n",
       "        vertical-align: middle;\n",
       "    }\n",
       "\n",
       "    .dataframe tbody tr th {\n",
       "        vertical-align: top;\n",
       "    }\n",
       "\n",
       "    .dataframe thead th {\n",
       "        text-align: right;\n",
       "    }\n",
       "</style>\n",
       "<table border=\"1\" class=\"dataframe\">\n",
       "  <thead>\n",
       "    <tr style=\"text-align: right;\">\n",
       "      <th></th>\n",
       "      <th>Number of pets owned</th>\n",
       "      <th>Difference from mean</th>\n",
       "      <th>Squared difference from mean</th>\n",
       "    </tr>\n",
       "  </thead>\n",
       "  <tbody>\n",
       "    <tr>\n",
       "      <th>0</th>\n",
       "      <td>0</td>\n",
       "      <td>-6.571429</td>\n",
       "      <td>43.183673</td>\n",
       "    </tr>\n",
       "    <tr>\n",
       "      <th>1</th>\n",
       "      <td>1</td>\n",
       "      <td>-5.571429</td>\n",
       "      <td>31.040816</td>\n",
       "    </tr>\n",
       "    <tr>\n",
       "      <th>2</th>\n",
       "      <td>5</td>\n",
       "      <td>-1.571429</td>\n",
       "      <td>2.469388</td>\n",
       "    </tr>\n",
       "    <tr>\n",
       "      <th>3</th>\n",
       "      <td>7</td>\n",
       "      <td>0.428571</td>\n",
       "      <td>0.183673</td>\n",
       "    </tr>\n",
       "    <tr>\n",
       "      <th>4</th>\n",
       "      <td>9</td>\n",
       "      <td>2.428571</td>\n",
       "      <td>5.897959</td>\n",
       "    </tr>\n",
       "    <tr>\n",
       "      <th>5</th>\n",
       "      <td>10</td>\n",
       "      <td>3.428571</td>\n",
       "      <td>11.755102</td>\n",
       "    </tr>\n",
       "    <tr>\n",
       "      <th>6</th>\n",
       "      <td>14</td>\n",
       "      <td>7.428571</td>\n",
       "      <td>55.183673</td>\n",
       "    </tr>\n",
       "  </tbody>\n",
       "</table>\n",
       "</div>"
      ],
      "text/plain": [
       "   Number of pets owned  Difference from mean  Squared difference from mean\n",
       "0                     0             -6.571429                     43.183673\n",
       "1                     1             -5.571429                     31.040816\n",
       "2                     5             -1.571429                      2.469388\n",
       "3                     7              0.428571                      0.183673\n",
       "4                     9              2.428571                      5.897959\n",
       "5                    10              3.428571                     11.755102\n",
       "6                    14              7.428571                     55.183673"
      ]
     },
     "metadata": {},
     "output_type": "display_data"
    },
    {
     "name": "stdout",
     "output_type": "stream",
     "text": [
      "De variantie is 21.387755102040813\n"
     ]
    }
   ],
   "source": [
    "df['Squared difference from mean'] = np.square(df['Difference from mean'])\n",
    "display(df)\n",
    "\n",
    "variance = np.mean(df['Squared difference from mean'])\n",
    "print(f\"De variantie is {variance}\")\n",
    "\n"
   ]
  },
  {
   "cell_type": "markdown",
   "id": "83230325",
   "metadata": {},
   "source": [
    "Wellicht vraag je het jezelf al af: 'Wanneer is de variantie groot of juist klein?' Dit is een arbitraire eenheid en is afhankelijk van de waarden in jouw dataset. Om dit 'probleem' op te lossen, berekenen we de wortel van de variantie. Deze maat wordt de standaard deviatie genoemd. Het voordeel hiervan is dat de eenheid hetzelfde is als de data zelf en daarom is deze uitkomstmaat een stuk makkelijker te interpreteren. In de dataset die we gebruiken is de standaard deviatie dus het aantal huisdieren."
   ]
  },
  {
   "cell_type": "code",
   "execution_count": 48,
   "id": "931fd6fc",
   "metadata": {},
   "outputs": [
    {
     "name": "stdout",
     "output_type": "stream",
     "text": [
      "De standaard deviatie is 4.624689730353898 huisdieren\n"
     ]
    }
   ],
   "source": [
    "standard_dev = np.sqrt(variance)\n",
    "print(f\"De standaard deviatie is {standard_dev} huisdieren\")"
   ]
  },
  {
   "cell_type": "markdown",
   "id": "4c2519c6",
   "metadata": {},
   "source": [
    "### 2.2 Spreidingsbreedte"
   ]
  },
  {
   "cell_type": "code",
   "execution_count": 49,
   "id": "f192c47b",
   "metadata": {},
   "outputs": [
    {
     "data": {
      "image/jpeg": "[encoded data removed]",
      "text/html": [
       "\n",
       "        <iframe\n",
       "            width=\"800\"\n",
       "            height=\"500\"\n",
       "            src=\"https://www.youtube.com/embed/tAJ2agzdEJE\"\n",
       "            frameborder=\"0\"\n",
       "            allowfullscreen\n",
       "            \n",
       "        ></iframe>\n",
       "        "
      ],
      "text/plain": [
       "<IPython.lib.display.YouTubeVideo at 0x2de8de8c190>"
      ]
     },
     "execution_count": 49,
     "metadata": {},
     "output_type": "execute_result"
    }
   ],
   "source": [
    "YouTubeVideo(\"tAJ2agzdEJE\", width=800, height=500)"
   ]
  },
  {
   "cell_type": "markdown",
   "id": "d1bd5164",
   "metadata": {},
   "source": [
    "Een andere maat voor de spreiding van de data is spreidingsbreedte. Deze waarde is het verschil tussen de grootste en de kleinste waarde in de lijst. Kijk eens naar het voorbeeld met de huisdieren, wat is de spreidingsbreedte?"
   ]
  },
  {
   "cell_type": "code",
   "execution_count": 50,
   "id": "92c7a869",
   "metadata": {},
   "outputs": [
    {
     "name": "stdout",
     "output_type": "stream",
     "text": [
      "De spreidingsbreedte is 14 huisdieren\n"
     ]
    }
   ],
   "source": [
    "range_pets = max(df['Number of pets owned']) - min(df['Number of pets owned'])\n",
    "\n",
    "print(f\"De spreidingsbreedte is {range_pets} huisdieren\")"
   ]
  },
  {
   "cell_type": "markdown",
   "id": "5b925a67",
   "metadata": {},
   "source": [
    "### 2.3 Percentielen en kwartielen"
   ]
  },
  {
   "cell_type": "code",
   "execution_count": 51,
   "id": "7bfb0252",
   "metadata": {},
   "outputs": [
    {
     "data": {
      "image/jpeg": "[encoded data removed]",
      "text/html": [
       "\n",
       "        <iframe\n",
       "            width=\"800\"\n",
       "            height=\"500\"\n",
       "            src=\"https://www.youtube.com/embed/998u9By6m_w\"\n",
       "            frameborder=\"0\"\n",
       "            allowfullscreen\n",
       "            \n",
       "        ></iframe>\n",
       "        "
      ],
      "text/plain": [
       "<IPython.lib.display.YouTubeVideo at 0x2de8f19eca0>"
      ]
     },
     "execution_count": 51,
     "metadata": {},
     "output_type": "execute_result"
    }
   ],
   "source": [
    "YouTubeVideo(\"998u9By6m_w\", width=800, height=500)"
   ]
  },
  {
   "cell_type": "markdown",
   "id": "0ae8dbbc",
   "metadata": {},
   "source": [
    "Percentielen en kwartielen zijn, net als de variantie en standaard deviatie, een maat die de variatie en spreiding in de data weergeeft. Het bepalen van de kwartielen gaat vergelijkbaar als de mediaan. Orden de data in opeenvolgende waarden, kies vervolgens de middelste waarden (dit noemen we naast de mediaan ook wel Q2). Je houdt nu twee rijen aan waarden over, links en rechts van de mediaan. Kies nu nogmaals de middelste waarden (bedenk dat als je even getallen hebt, je de middelste twee waarden neemt en daar het gemiddelde van bepaald). Je dataset is nu in vieren gesplitst met daartussen Q1, Q2 en Q3, dit zijn de waarden die tussen de vier kwartielen liggen. Een maat voor de spreiding is de interkwartielafstand, dit is het verschil tussen het derde en het eerste kwartiel (Q3-Q1)."
   ]
  },
  {
   "cell_type": "code",
   "execution_count": 61,
   "id": "dfc14ae9",
   "metadata": {},
   "outputs": [],
   "source": [
    "# Een functie die de kwartielen van een lijst bepaald\n",
    "\n",
    "def quartiles(values):\n",
    "    \n",
    "    # First sort the values\n",
    "    ordered = sorted(values)\n",
    "    print(ordered)\n",
    "    \n",
    "    # Zoekt de index voor Q1 en Q3. Zie dat hier Q1 op 1/4e en Q3 op 3/4e van de lengte van de lijst staat.\n",
    "    n = len(ordered)\n",
    "    q1 = int(n / 4) - 1 if n % 2 == 0 else int(n/4)\n",
    "    q3 = int(3*n / 4) - 1 if n % 2 == 0 else int(3*n/4)\n",
    "\n",
    "\n",
    "    if n % 2 == 0:\n",
    "        quart1 = (ordered[q1] + ordered[q1+1]) / 2.0\n",
    "        quart3 = (ordered[q3] + ordered[q3+1]) / 2.0\n",
    "    else:\n",
    "        quart1 = ordered[q1]\n",
    "        quart3 = ordered[q3]\n",
    "        \n",
    "    return quart1, quart3\n",
    "\n",
    "\n",
    "# test2= [1, 2, 3, 4]\n",
    "# displ= [-, -, -, -]\n",
    "\n",
    "# print(quartiles(test2))"
   ]
  },
  {
   "cell_type": "code",
   "execution_count": 62,
   "id": "bba1b22c",
   "metadata": {},
   "outputs": [
    {
     "name": "stdout",
     "output_type": "stream",
     "text": [
      "[13, 21, 21, 40, 42, 48, 55, 72]\n",
      "(21.0, 51.5)\n"
     ]
    }
   ],
   "source": [
    "ages = [13,21,21,40,42,48,55,72]\n",
    "print(quartiles(ages))"
   ]
  },
  {
   "cell_type": "markdown",
   "id": "0a643c1a",
   "metadata": {},
   "source": [
    "Een andere methode is het gebruik van de 'quantile' functie in numpy. Mogelijk zorgt dit voor iets andere waarden, vanwege de manier waarop numpy de kwartielen berekend."
   ]
  },
  {
   "cell_type": "code",
   "execution_count": 63,
   "id": "57fe099d",
   "metadata": {},
   "outputs": [
    {
     "name": "stdout",
     "output_type": "stream",
     "text": [
      "[21.   49.75]\n"
     ]
    }
   ],
   "source": [
    "print(np.quantile(ages, [0.25, 0.75]))"
   ]
  },
  {
   "cell_type": "markdown",
   "id": "84a9cfc7",
   "metadata": {},
   "source": [
    "Met het gebruik van percentielen wordt de data geschaald naar 0 tot 100. Zoek op hoe je percentielen kan bepalen middels Python."
   ]
  },
  {
   "cell_type": "markdown",
   "id": "8e027ede",
   "metadata": {},
   "source": [
    "## 3 Frequentieverdeling"
   ]
  },
  {
   "cell_type": "code",
   "execution_count": 64,
   "id": "ad96bdcb",
   "metadata": {},
   "outputs": [
    {
     "data": {
      "image/jpeg": "[encoded data removed]",
      "text/html": [
       "\n",
       "        <iframe\n",
       "            width=\"800\"\n",
       "            height=\"500\"\n",
       "            src=\"https://www.youtube.com/embed/_XsC7lYcocI\"\n",
       "            frameborder=\"0\"\n",
       "            allowfullscreen\n",
       "            \n",
       "        ></iframe>\n",
       "        "
      ],
      "text/plain": [
       "<IPython.lib.display.YouTubeVideo at 0x2de8f1f3640>"
      ]
     },
     "execution_count": 64,
     "metadata": {},
     "output_type": "execute_result"
    }
   ],
   "source": [
    "YouTubeVideo(\"_XsC7lYcocI\", width=800, height=500)"
   ]
  },
  {
   "cell_type": "markdown",
   "id": "541da02f",
   "metadata": {},
   "source": [
    "Een handige manier om numerieke data te sorteren met behulp van klassenindeling om vervolgens de frequentie per klas te visualiseren is een histogram. In Python gebruiken we hier de pandas library voor.\n",
    "\n",
    "We hebben een dataset met daarin de lengte van mensen in centimere:"
   ]
  },
  {
   "cell_type": "code",
   "execution_count": 113,
   "id": "4436c495",
   "metadata": {},
   "outputs": [],
   "source": [
    "heights_cm = [185.7, 172.3, 172.8, 169.6, 181.2, 162.2, 186.5, 171.4, 177.9, 174.5, 184.8, 163.6, 174.1, \n",
    "              173.7, 182.8, 169.4, 175.0, 170.7, 176.3, 179.5, 169.4, 182.9, 181.4, 179.0, 181.4, 171.9, \n",
    "              175.3, 170.4, 174.4, 179.2, 171.9, 173.6, 171.9, 170.9, 172.0, 175.9, 169.3, 177.4, 186.0, \n",
    "              180.5, 174.8, 170.7, 171.5, 186.2, 176.3, 172.2, 177.1, 188.6, 176.7, 179.7, 177.8, 173.9, \n",
    "              169.1, 173.9, 174.7, 179.5, 181.0, 181.6, 177.7, 181.3, 171.5, 183.5, 179.1, 174.2, 178.9, \n",
    "              175.5, 182.8, 185.1, 189.1, 167.6, 167.3, 173.0, 177.0, 181.3, 177.9, 163.9, 174.2, 181.0, \n",
    "              177.4, 180.6, 174.7, 174.8, 177.1, 178.5, 177.2, 176.7, 172.0, 178.3, 176.7, 182.8, 183.2, \n",
    "              177.1, 173.7, 172.2, 178.5, 176.5, 173.9, 176.3, 172.3, 180.2, 173.3, 183.3, 178.4, 179.6, \n",
    "              169.4, 177.0, 180.4, 170.3, 174.4, 176.2, 167.8, 177.9, 181.1, 170.8, 178.1, 168.1, 175.8, \n",
    "              166.3, 182.7, 178.5, 175.9, 171.3, 183.6, 187.8, 164.9, 183.4, 185.8, 178.0, 168.8, 181.2, \n",
    "              174.9, 172.4, 168.6, 179.3, 180.8, 172.3, 179.1, 169.1, 180.8, 176.3, 174.9, 175.4, 181.2, \n",
    "              180.5, 179.2, 176.8, 176.5, 179.7, 177.4, 180.1, 174.1, 161.4, 182.2, 189.1, 178.6, 175.4, \n",
    "              175.2, 175.3, 176.1, 169.3, 172.9, 170.0, 177.5, 174.2, 179.0, 175.0, 181.9, 177.3, 189.1, \n",
    "              164.6, 172.1, 181.4, 191.2, 174.5, 176.3, 174.6, 184.0, 174.3, 180.1, 174.1, 168.4, 177.9, \n",
    "              179.0, 183.8, 175.3, 172.3, 179.4, 177.4, 177.7, 175.6, 183.0, 178.2, 187.4, 182.7, 180.0, \n",
    "              166.2, 179.6, 178.5, 180.9, 182.3, 173.6, 180.9, 172.6, 187.7, 168.0, 165.4, 166.1, 170.7, \n",
    "              169.3, 187.7, 174.0, 167.9, 182.7, 172.5, 168.6, 181.3, 179.7, 173.4, 184.4, 176.8, 185.7, \n",
    "              179.0, 185.4, 176.7, 168.7, 190.7, 172.7, 174.8, 171.8, 174.8, 177.5, 177.2, 180.0, 186.8, \n",
    "              175.3, 168.6, 168.9, 172.0, 166.0, 181.0, 173.0, 174.1, 176.0, 167.6, 170.8, 180.0, 179.7, \n",
    "              173.3, 186.9, 168.2]"
   ]
  },
  {
   "cell_type": "markdown",
   "id": "cb0f11d6",
   "metadata": {},
   "source": [
    "We maken hier een pandas dataframe van:"
   ]
  },
  {
   "cell_type": "code",
   "execution_count": 114,
   "id": "3622e7d7",
   "metadata": {},
   "outputs": [],
   "source": [
    "# Gebruik pandas om een dataframe te maken\n",
    "df = pd.DataFrame(heights_cm, columns=['Height (cm)'])"
   ]
  },
  {
   "cell_type": "markdown",
   "id": "589d69c7",
   "metadata": {},
   "source": [
    "Door de 'describe()' method te gebruiken, geeft pandas jouw beschrijvende statistiek van jouw dataframe:"
   ]
  },
  {
   "cell_type": "code",
   "execution_count": 115,
   "id": "6ccbbe6d",
   "metadata": {},
   "outputs": [
    {
     "data": {
      "text/html": [
       "<div>\n",
       "<style scoped>\n",
       "    .dataframe tbody tr th:only-of-type {\n",
       "        vertical-align: middle;\n",
       "    }\n",
       "\n",
       "    .dataframe tbody tr th {\n",
       "        vertical-align: top;\n",
       "    }\n",
       "\n",
       "    .dataframe thead th {\n",
       "        text-align: right;\n",
       "    }\n",
       "</style>\n",
       "<table border=\"1\" class=\"dataframe\">\n",
       "  <thead>\n",
       "    <tr style=\"text-align: right;\">\n",
       "      <th></th>\n",
       "      <th>Height (cm)</th>\n",
       "    </tr>\n",
       "  </thead>\n",
       "  <tbody>\n",
       "    <tr>\n",
       "      <th>count</th>\n",
       "      <td>250.000000</td>\n",
       "    </tr>\n",
       "    <tr>\n",
       "      <th>mean</th>\n",
       "      <td>176.459600</td>\n",
       "    </tr>\n",
       "    <tr>\n",
       "      <th>std</th>\n",
       "      <td>5.725257</td>\n",
       "    </tr>\n",
       "    <tr>\n",
       "      <th>min</th>\n",
       "      <td>161.400000</td>\n",
       "    </tr>\n",
       "    <tr>\n",
       "      <th>25%</th>\n",
       "      <td>172.425000</td>\n",
       "    </tr>\n",
       "    <tr>\n",
       "      <th>50%</th>\n",
       "      <td>176.500000</td>\n",
       "    </tr>\n",
       "    <tr>\n",
       "      <th>75%</th>\n",
       "      <td>180.175000</td>\n",
       "    </tr>\n",
       "    <tr>\n",
       "      <th>max</th>\n",
       "      <td>191.200000</td>\n",
       "    </tr>\n",
       "  </tbody>\n",
       "</table>\n",
       "</div>"
      ],
      "text/plain": [
       "       Height (cm)\n",
       "count   250.000000\n",
       "mean    176.459600\n",
       "std       5.725257\n",
       "min     161.400000\n",
       "25%     172.425000\n",
       "50%     176.500000\n",
       "75%     180.175000\n",
       "max     191.200000"
      ]
     },
     "execution_count": 115,
     "metadata": {},
     "output_type": "execute_result"
    }
   ],
   "source": [
    "df.describe()"
   ]
  },
  {
   "cell_type": "markdown",
   "id": "82ddc3d1",
   "metadata": {},
   "source": [
    "We maken een histogram van onze data:"
   ]
  },
  {
   "cell_type": "code",
   "execution_count": 116,
   "id": "49c64a3a",
   "metadata": {},
   "outputs": [
    {
     "data": {
      "text/plain": [
       "array([[<AxesSubplot:title={'center':'Height (cm)'}>]], dtype=object)"
      ]
     },
     "execution_count": 116,
     "metadata": {},
     "output_type": "execute_result"
    },
    {
     "data": {
      "image/png": "[encoded data removed]",
      "text/plain": [
       "<Figure size 432x288 with 1 Axes>"
      ]
     },
     "metadata": {
      "needs_background": "light"
     },
     "output_type": "display_data"
    }
   ],
   "source": [
    "df.hist()"
   ]
  },
  {
   "cell_type": "markdown",
   "id": "3d066e4d",
   "metadata": {},
   "source": [
    "Deze visualisatie vertelt ons veel over de data. De spreidingsbreedte is tussen de 160 en 190 cm en de meeste mensen in onze dataset zijn tussen de 175 en 180 cm. Door de klassenindeling te veranderen kunnen we in- en uitzoomen op onze histogram. Dit doen we door 'bins' als argument toe te voegen aan de 'hist()' method, deze staat standaard op 10."
   ]
  },
  {
   "cell_type": "code",
   "execution_count": 117,
   "id": "84671aa7",
   "metadata": {},
   "outputs": [
    {
     "data": {
      "text/plain": [
       "array([[<AxesSubplot:title={'center':'Height (cm)'}>]], dtype=object)"
      ]
     },
     "execution_count": 117,
     "metadata": {},
     "output_type": "execute_result"
    },
    {
     "data": {
      "image/png": "[encoded data removed]",
      "text/plain": [
       "<Figure size 432x288 with 1 Axes>"
      ]
     },
     "metadata": {
      "needs_background": "light"
     },
     "output_type": "display_data"
    }
   ],
   "source": [
    "df.hist(bins=50)"
   ]
  },
  {
   "cell_type": "markdown",
   "id": "feafc2db",
   "metadata": {},
   "source": [
    "## 4 Meetniveau's"
   ]
  },
  {
   "cell_type": "code",
   "execution_count": 125,
   "id": "be73eb45",
   "metadata": {},
   "outputs": [
    {
     "data": {
      "image/jpeg": "[encoded data removed]",
      "text/html": [
       "\n",
       "        <iframe\n",
       "            width=\"800\"\n",
       "            height=\"500\"\n",
       "            src=\"https://www.youtube.com/embed/3-9IdeVVIik\"\n",
       "            frameborder=\"0\"\n",
       "            allowfullscreen\n",
       "            \n",
       "        ></iframe>\n",
       "        "
      ],
      "text/plain": [
       "<IPython.lib.display.YouTubeVideo at 0x2de986935e0>"
      ]
     },
     "execution_count": 125,
     "metadata": {},
     "output_type": "execute_result"
    }
   ],
   "source": [
    "YouTubeVideo(\"3-9IdeVVIik\", width=800, height=500)"
   ]
  },
  {
   "cell_type": "markdown",
   "id": "3346b157",
   "metadata": {},
   "source": [
    "## 5 Correlaties"
   ]
  },
  {
   "cell_type": "code",
   "execution_count": 126,
   "id": "1c17d7e4",
   "metadata": {},
   "outputs": [
    {
     "data": {
      "image/jpeg": "[encoded data removed]",
      "text/html": [
       "\n",
       "        <iframe\n",
       "            width=\"800\"\n",
       "            height=\"500\"\n",
       "            src=\"https://www.youtube.com/embed/FvZw74gz0Aw\"\n",
       "            frameborder=\"0\"\n",
       "            allowfullscreen\n",
       "            \n",
       "        ></iframe>\n",
       "        "
      ],
      "text/plain": [
       "<IPython.lib.display.YouTubeVideo at 0x2de986ced90>"
      ]
     },
     "execution_count": 126,
     "metadata": {},
     "output_type": "execute_result"
    }
   ],
   "source": [
    "YouTubeVideo(\"FvZw74gz0Aw\", width=800, height=500)"
   ]
  },
  {
   "cell_type": "markdown",
   "id": "c1d9c081",
   "metadata": {},
   "source": [
    "Correlatie is een statistische maat die weergeeft in welke mate twee variabele een lineair verband hebben. Het is een methode die wordt gebruikt om verbanden en relaties te beschrijven, zonder uit te gaan van causaliteit. \n",
    "\n",
    "Je kan wiskundig bepalen wat het verband is tussen twee variabelen, door de (Pearson) correlatie coëfficiënt te bepalen. Deze kan een waarde aannemen tussen de -1 en 1. Een positieve waarde dichtbij 1 houdt in dat er een sterke en positieve relatie is tussen de twee variabelen, ofwel wanneer de ene variabele stijgt, stijgt de ander ook. Andersom staat een negatieve waarde voor een negatief verband (als de een stijgt, daalt de ander). Hoe dichter de waarde bij de 0 komt, des te zwakker het verband is. In Python kan je de method 'corr()' binnen de numpy library gebruiken om de correlatie coëfficient te bepalen. Je kan ook 'df.corr()' gebruiken wanneer je een pandas dataframe hebt.\n",
    "\n",
    "Kijk maar eens naar dit voorbeeld:"
   ]
  },
  {
   "cell_type": "code",
   "execution_count": 127,
   "id": "e50237d9",
   "metadata": {},
   "outputs": [
    {
     "data": {
      "text/html": [
       "<div>\n",
       "<style scoped>\n",
       "    .dataframe tbody tr th:only-of-type {\n",
       "        vertical-align: middle;\n",
       "    }\n",
       "\n",
       "    .dataframe tbody tr th {\n",
       "        vertical-align: top;\n",
       "    }\n",
       "\n",
       "    .dataframe thead th {\n",
       "        text-align: right;\n",
       "    }\n",
       "</style>\n",
       "<table border=\"1\" class=\"dataframe\">\n",
       "  <thead>\n",
       "    <tr style=\"text-align: right;\">\n",
       "      <th></th>\n",
       "      <th>x</th>\n",
       "      <th>y</th>\n",
       "    </tr>\n",
       "  </thead>\n",
       "  <tbody>\n",
       "    <tr>\n",
       "      <th>x</th>\n",
       "      <td>1.00000</td>\n",
       "      <td>0.75864</td>\n",
       "    </tr>\n",
       "    <tr>\n",
       "      <th>y</th>\n",
       "      <td>0.75864</td>\n",
       "      <td>1.00000</td>\n",
       "    </tr>\n",
       "  </tbody>\n",
       "</table>\n",
       "</div>"
      ],
      "text/plain": [
       "         x        y\n",
       "x  1.00000  0.75864\n",
       "y  0.75864  1.00000"
      ]
     },
     "execution_count": 127,
     "metadata": {},
     "output_type": "execute_result"
    }
   ],
   "source": [
    "x = np.arange(10, 20) # a list of values from 10 to 20\n",
    "y = np.array([2, 1, 4, 5, 8, 12, 18, 25, 96, 48])\n",
    "\n",
    "# Het gebruik van pandas om een dataframe te maken\n",
    "df = pd.DataFrame(list(zip(x, y)), columns=['x', 'y'])\n",
    "\n",
    "# Bepalen van de correlatiecoëfficiënt\n",
    "df.corr()"
   ]
  },
  {
   "cell_type": "markdown",
   "id": "c99b513a",
   "metadata": {},
   "source": [
    "Elk element op de diagonaal geeft het verband die de variabele met zichzelf heeft weer. Logischerwijs is dit altijd 1. De overige waarden geven de verbanden aan tussen verschillende variabelen. Een waarde van 0.75 is dichtbij 1, deze variabelen hebben dus een sterke positieve relatie met elkaar. We gaan dit nu visualiseren:"
   ]
  },
  {
   "cell_type": "code",
   "execution_count": 128,
   "id": "5c70921e",
   "metadata": {},
   "outputs": [
    {
     "data": {
      "text/plain": [
       "<AxesSubplot:xlabel='x', ylabel='y'>"
      ]
     },
     "execution_count": 128,
     "metadata": {},
     "output_type": "execute_result"
    },
    {
     "data": {
      "image/png": "[encoded data removed]",
      "text/plain": [
       "<Figure size 432x288 with 1 Axes>"
      ]
     },
     "metadata": {
      "needs_background": "light"
     },
     "output_type": "display_data"
    }
   ],
   "source": [
    "df.plot.scatter('x', 'y')"
   ]
  },
  {
   "cell_type": "markdown",
   "id": "8c3742d0",
   "metadata": {},
   "source": [
    "Zie je de positieve correlatie?\n",
    "\n",
    "Waarschuwing! Dat twee variabelen een positief verband hebben, houdt niet in dat er een causaal verband bestaat. [Deze website](https://www.tylervigen.com/spurious-correlations) laat een aantal grappige voorbeelden zien van variabelen die een sterk verband hebben, maar niks met elkaar te maken hebben.\n",
    "\n",
    "Een waarschuwing over het vertrouwen van beschrijvende statistiek:\n",
    "\n",
    "Beschrijvende statistiek kan een krachtig hulpmiddel zijn om meer te weten te komen over jouw data, maar je kan op basis hiervan niet blindelings conclusies trekken. Als voorbeeld kijken we naar vier datasets hieronder. Ze hebben allemaal dezelfde beschrijvende statistiek (gemiddelde, variantie, correlatie), maar de verschillen die je ziet zijn erg groot."
   ]
  },
  {
   "cell_type": "code",
   "execution_count": 129,
   "id": "eed033dd",
   "metadata": {},
   "outputs": [
    {
     "data": {
      "text/html": [
       "<img src=\"https://brightspace.hhs.nl//content/enforced/15456-ADSAI-WISK1-22_2022_VT/Anscombe's_quartet.png\" width=\"600\"/>"
      ],
      "text/plain": [
       "<IPython.core.display.Image object>"
      ]
     },
     "execution_count": 129,
     "metadata": {},
     "output_type": "execute_result"
    }
   ],
   "source": [
    "Image(url=\"https://brightspace.hhs.nl//content/enforced/15456-ADSAI-WISK1-22_2022_VT/Anscombe's_quartet.png\", width=600)"
   ]
  },
  {
   "cell_type": "markdown",
   "id": "79e64338",
   "metadata": {},
   "source": [
    "Een ander leuk voorbeeld: een dataset waarbij de data punten een vorm hebben van een dinosaurus en een dataset van een cirkel, met dezelfde beschrijvende statistiek!"
   ]
  },
  {
   "cell_type": "markdown",
   "id": "cfdb2f50",
   "metadata": {},
   "source": [
    "![DinoUrl](https://brightspace.hhs.nl//content/enforced/15456-ADSAI-WISK1-22_2022_VT/dinosaur_circle.gif \"dinosaur\")"
   ]
  },
  {
   "cell_type": "markdown",
   "id": "e61203d6",
   "metadata": {},
   "source": [
    "Het is daarom belangrijk om **altijd je data te visualiseren** voordat je conclusies trekt. De combinatie van visualisaties en het toepassen van beschrijvende statistiek noemen we **'exploratory data analysis'** (het verkennen van de data)."
   ]
  },
  {
   "cell_type": "markdown",
   "id": "83c9bdb6",
   "metadata": {},
   "source": [
    "## 6 Opdrachten"
   ]
  },
  {
   "cell_type": "markdown",
   "id": "7faae37d",
   "metadata": {},
   "source": [
    "Het is tijd om alles wat je hebt geleerd toe te passen. De dataset bevat gegevens over inkomsten en uitgaven van huishoudens. Het is aan jou om statistische methoden toe te passen om de dataset te beschrijven. Importeer de dataset en beantwoord de vragen in de daarvoor bestemde vakken."
   ]
  },
  {
   "cell_type": "code",
   "execution_count": 17,
   "id": "60d991ff",
   "metadata": {},
   "outputs": [],
   "source": [
    "import pandas as pd"
   ]
  },
  {
   "cell_type": "code",
   "execution_count": 18,
   "id": "67d547c3",
   "metadata": {},
   "outputs": [],
   "source": [
    "income_df = pd.read_csv(\"Inc_Exp_Data.csv\")"
   ]
  },
  {
   "cell_type": "code",
   "execution_count": 19,
   "id": "fd5c7976",
   "metadata": {},
   "outputs": [
    {
     "data": {
      "text/html": [
       "<div>\n",
       "<style scoped>\n",
       "    .dataframe tbody tr th:only-of-type {\n",
       "        vertical-align: middle;\n",
       "    }\n",
       "\n",
       "    .dataframe tbody tr th {\n",
       "        vertical-align: top;\n",
       "    }\n",
       "\n",
       "    .dataframe thead th {\n",
       "        text-align: right;\n",
       "    }\n",
       "</style>\n",
       "<table border=\"1\" class=\"dataframe\">\n",
       "  <thead>\n",
       "    <tr style=\"text-align: right;\">\n",
       "      <th></th>\n",
       "      <th>Mthly_HH_Income</th>\n",
       "      <th>Mthly_HH_Expense</th>\n",
       "      <th>No_of_Fly_Members</th>\n",
       "      <th>Emi_or_Rent_Amt</th>\n",
       "      <th>Annual_HH_Income</th>\n",
       "      <th>Highest_Qualified_Member</th>\n",
       "      <th>No_of_Earning_Members</th>\n",
       "    </tr>\n",
       "  </thead>\n",
       "  <tbody>\n",
       "    <tr>\n",
       "      <th>0</th>\n",
       "      <td>5000</td>\n",
       "      <td>8000</td>\n",
       "      <td>3</td>\n",
       "      <td>2000</td>\n",
       "      <td>64200</td>\n",
       "      <td>Under-Graduate</td>\n",
       "      <td>1</td>\n",
       "    </tr>\n",
       "    <tr>\n",
       "      <th>1</th>\n",
       "      <td>6000</td>\n",
       "      <td>7000</td>\n",
       "      <td>2</td>\n",
       "      <td>3000</td>\n",
       "      <td>79920</td>\n",
       "      <td>Illiterate</td>\n",
       "      <td>1</td>\n",
       "    </tr>\n",
       "    <tr>\n",
       "      <th>2</th>\n",
       "      <td>10000</td>\n",
       "      <td>4500</td>\n",
       "      <td>2</td>\n",
       "      <td>0</td>\n",
       "      <td>112800</td>\n",
       "      <td>Under-Graduate</td>\n",
       "      <td>1</td>\n",
       "    </tr>\n",
       "    <tr>\n",
       "      <th>3</th>\n",
       "      <td>10000</td>\n",
       "      <td>2000</td>\n",
       "      <td>1</td>\n",
       "      <td>0</td>\n",
       "      <td>97200</td>\n",
       "      <td>Illiterate</td>\n",
       "      <td>1</td>\n",
       "    </tr>\n",
       "    <tr>\n",
       "      <th>4</th>\n",
       "      <td>12500</td>\n",
       "      <td>12000</td>\n",
       "      <td>2</td>\n",
       "      <td>3000</td>\n",
       "      <td>147000</td>\n",
       "      <td>Graduate</td>\n",
       "      <td>1</td>\n",
       "    </tr>\n",
       "  </tbody>\n",
       "</table>\n",
       "</div>"
      ],
      "text/plain": [
       "   Mthly_HH_Income  Mthly_HH_Expense  No_of_Fly_Members  Emi_or_Rent_Amt  \\\n",
       "0             5000              8000                  3             2000   \n",
       "1             6000              7000                  2             3000   \n",
       "2            10000              4500                  2                0   \n",
       "3            10000              2000                  1                0   \n",
       "4            12500             12000                  2             3000   \n",
       "\n",
       "   Annual_HH_Income Highest_Qualified_Member  No_of_Earning_Members  \n",
       "0             64200           Under-Graduate                      1  \n",
       "1             79920               Illiterate                      1  \n",
       "2            112800           Under-Graduate                      1  \n",
       "3             97200               Illiterate                      1  \n",
       "4            147000                 Graduate                      1  "
      ]
     },
     "execution_count": 19,
     "metadata": {},
     "output_type": "execute_result"
    }
   ],
   "source": [
    "income_df.head()"
   ]
  },
  {
   "cell_type": "markdown",
   "id": "c010d9c7",
   "metadata": {},
   "source": [
    "### Vraag 1: Wat is de gemiddelde uitgave per huishouden?"
   ]
  },
  {
   "cell_type": "code",
   "execution_count": 20,
   "id": "d2ca65b7",
   "metadata": {},
   "outputs": [
    {
     "name": "stdout",
     "output_type": "stream",
     "text": [
      "De gemiddelde uitgave per huishouden is = 18818.0\n"
     ]
    }
   ],
   "source": [
    "avg_exp = income_df.Mthly_HH_Expense.mean()\n",
    "print(f\"De gemiddelde uitgave per huishouden is = {avg_exp}\")"
   ]
  },
  {
   "cell_type": "markdown",
   "id": "9ac42c80",
   "metadata": {},
   "source": [
    "### Vraag 2: Wat is de mediaan van de uitgaven per huishouden"
   ]
  },
  {
   "cell_type": "code",
   "execution_count": 21,
   "id": "9fe8fa25",
   "metadata": {},
   "outputs": [
    {
     "name": "stdout",
     "output_type": "stream",
     "text": [
      "De median van de uitgaven per huishouden is = 15500.0\n"
     ]
    }
   ],
   "source": [
    "med_exp = income_df.Mthly_HH_Expense.median()\n",
    "print(f\"De median van de uitgaven per huishouden is = {med_exp}\")"
   ]
  },
  {
   "cell_type": "markdown",
   "id": "25b7478d",
   "metadata": {},
   "source": [
    "### Vraag 3: Welke van de twee centrummaten zou jij gebruiken voor de maandelijkse uitgaven per huishouden?"
   ]
  },
  {
   "cell_type": "code",
   "execution_count": 22,
   "id": "ea2c67f5",
   "metadata": {},
   "outputs": [
    {
     "name": "stdout",
     "output_type": "stream",
     "text": [
      "Ik zou de median(15500.0) gebruiken.\n",
      "De gemiddelde(18818.0) is hoger vanwege de hoge waarden rond 40k-50k en dat geeft geen goed volledig beeld.\n"
     ]
    },
    {
     "data": {
      "image/png": "[encoded data removed]",
      "text/plain": [
       "<Figure size 640x480 with 1 Axes>"
      ]
     },
     "metadata": {},
     "output_type": "display_data"
    }
   ],
   "source": [
    "income_df.Mthly_HH_Expense.hist(bins=20)\n",
    "\n",
    "print(f\"\"\"Ik zou de median({med_exp}) gebruiken.\n",
    "De gemiddelde({avg_exp}) is hoger vanwege de hoge waarden rond 40k-50k en dat geeft geen goed volledig beeld.\"\"\")"
   ]
  },
  {
   "cell_type": "markdown",
   "id": "b89633a5",
   "metadata": {},
   "source": [
    "### Vraag 4: Wat is de maandelijke uitgaven voor de meeste huishoudens?"
   ]
  },
  {
   "cell_type": "code",
   "execution_count": 23,
   "id": "4083fec9",
   "metadata": {},
   "outputs": [
    {
     "name": "stdout",
     "output_type": "stream",
     "text": [
      "\n",
      "De maandelijke uitgaven voor de meeste huishoudens is [25000].\n",
      "\n"
     ]
    },
    {
     "data": {
      "text/plain": [
       "count       50.000000\n",
       "mean     18818.000000\n",
       "std      12090.216824\n",
       "min       2000.000000\n",
       "25%      10000.000000\n",
       "50%      15500.000000\n",
       "75%      25000.000000\n",
       "max      50000.000000\n",
       "Name: Mthly_HH_Expense, dtype: float64"
      ]
     },
     "execution_count": 23,
     "metadata": {},
     "output_type": "execute_result"
    }
   ],
   "source": [
    "mode_exp = income_df.Mthly_HH_Expense.mode()\n",
    "print(f\"\\nDe maandelijke uitgaven voor de meeste huishoudens is [{mode_exp[0]}].\\n\")\n",
    "income_df.Mthly_HH_Expense.describe()"
   ]
  },
  {
   "cell_type": "markdown",
   "id": "6e6e3b72",
   "metadata": {},
   "source": [
    "### Vraag 5: Hoe ziet de frequentieverdeling er uit voor de maandelijkse uitgaven? Welk inzicht geeft dit jou?"
   ]
  },
  {
   "cell_type": "code",
   "execution_count": 24,
   "id": "78fcf010",
   "metadata": {},
   "outputs": [
    {
     "data": {
      "text/plain": [
       "<AxesSubplot:>"
      ]
     },
     "execution_count": 24,
     "metadata": {},
     "output_type": "execute_result"
    },
    {
     "data": {
      "image/png": "[encoded data removed]",
      "text/plain": [
       "<Figure size 640x480 with 1 Axes>"
      ]
     },
     "metadata": {},
     "output_type": "display_data"
    }
   ],
   "source": [
    "income_df.Mthly_HH_Expense.hist(bins=20)\n",
    "# Verspreid data"
   ]
  },
  {
   "cell_type": "markdown",
   "id": "3ff8c9b4",
   "metadata": {},
   "source": [
    "### Vraag 6: Bereken de interkwartielafstand voor de maandelijkse uitgaven."
   ]
  },
  {
   "cell_type": "code",
   "execution_count": 25,
   "id": "770a5995",
   "metadata": {},
   "outputs": [
    {
     "name": "stdout",
     "output_type": "stream",
     "text": [
      "[10000. 25000.]\n"
     ]
    },
    {
     "ename": "NameError",
     "evalue": "name 'quartiles' is not defined",
     "output_type": "error",
     "traceback": [
      "\u001b[1;31m---------------------------------------------------------------------------\u001b[0m",
      "\u001b[1;31mNameError\u001b[0m                                 Traceback (most recent call last)",
      "\u001b[1;32m~\\AppData\\Local\\Temp\\ipykernel_6900\\99499215.py\u001b[0m in \u001b[0;36m<module>\u001b[1;34m\u001b[0m\n\u001b[0;32m      1\u001b[0m \u001b[1;32mimport\u001b[0m \u001b[0mnumpy\u001b[0m \u001b[1;32mas\u001b[0m \u001b[0mnp\u001b[0m\u001b[1;33m\u001b[0m\u001b[1;33m\u001b[0m\u001b[0m\n\u001b[0;32m      2\u001b[0m \u001b[0mprint\u001b[0m\u001b[1;33m(\u001b[0m\u001b[0mnp\u001b[0m\u001b[1;33m.\u001b[0m\u001b[0mquantile\u001b[0m\u001b[1;33m(\u001b[0m\u001b[0mincome_df\u001b[0m\u001b[1;33m.\u001b[0m\u001b[0mMthly_HH_Expense\u001b[0m\u001b[1;33m,\u001b[0m \u001b[1;33m[\u001b[0m\u001b[1;36m0.25\u001b[0m\u001b[1;33m,\u001b[0m \u001b[1;36m0.75\u001b[0m\u001b[1;33m]\u001b[0m\u001b[1;33m)\u001b[0m\u001b[1;33m)\u001b[0m\u001b[1;33m\u001b[0m\u001b[1;33m\u001b[0m\u001b[0m\n\u001b[1;32m----> 3\u001b[1;33m \u001b[0mprint\u001b[0m\u001b[1;33m(\u001b[0m\u001b[0mquartiles\u001b[0m\u001b[1;33m(\u001b[0m\u001b[0mincome_df\u001b[0m\u001b[1;33m.\u001b[0m\u001b[0mMthly_HH_Expense\u001b[0m\u001b[1;33m)\u001b[0m\u001b[1;33m)\u001b[0m\u001b[1;33m\u001b[0m\u001b[1;33m\u001b[0m\u001b[0m\n\u001b[0m",
      "\u001b[1;31mNameError\u001b[0m: name 'quartiles' is not defined"
     ]
    }
   ],
   "source": [
    "import numpy as np\n",
    "print(np.quantile(income_df.Mthly_HH_Expense, [0.25, 0.75]))\n",
    "print(quartiles(income_df.Mthly_HH_Expense))"
   ]
  },
  {
   "cell_type": "markdown",
   "id": "15d7eb4f",
   "metadata": {},
   "source": [
    "### Vraag 7: Bereken de variantie en standaard deviatie van elke numerieke kolom."
   ]
  },
  {
   "cell_type": "code",
   "execution_count": 33,
   "id": "68dca25b",
   "metadata": {},
   "outputs": [
    {
     "name": "stdout",
     "output_type": "stream",
     "text": [
      "Standart deviation for the columns are \n",
      "\n",
      "Mthly_HH_Income           26097.908979\n",
      "Mthly_HH_Expense          12090.216824\n",
      "No_of_Fly_Members             1.517382\n",
      "Emi_or_Rent_Amt            6241.434948\n",
      "Annual_HH_Income         320135.792123\n",
      "No_of_Earning_Members         0.734291\n",
      "dtype: float64\n",
      "\n",
      "Variantie deviation for the columns are \n",
      "\n",
      "Mthly_HH_Income          6.811009e+08\n",
      "Mthly_HH_Expense         1.461733e+08\n",
      "No_of_Fly_Members        2.302449e+00\n",
      "Emi_or_Rent_Amt          3.895551e+07\n",
      "Annual_HH_Income         1.024869e+11\n",
      "No_of_Earning_Members    5.391837e-01\n",
      "dtype: float64\n",
      "\n"
     ]
    }
   ],
   "source": [
    "print(f\"Standart deviation for the columns are \\n\\n{income_df.std(numeric_only=True)}\\n\")\n",
    "print(f\"Variantie deviation for the columns are \\n\\n{income_df.var(numeric_only=True)}\\n\")"
   ]
  },
  {
   "cell_type": "markdown",
   "id": "f75827ef",
   "metadata": {},
   "source": [
    "### Vraag 8: Bereken het 10e en de 90e percentiel van het maandelijkse inkomen. Wat is de spreidingsbreedte?"
   ]
  },
  {
   "cell_type": "code",
   "execution_count": 198,
   "id": "2f236217",
   "metadata": {},
   "outputs": [
    {
     "name": "stdout",
     "output_type": "stream",
     "text": [
      "[13850. 85500.]\n"
     ]
    },
    {
     "data": {
      "text/plain": [
       "<AxesSubplot:>"
      ]
     },
     "execution_count": 198,
     "metadata": {},
     "output_type": "execute_result"
    },
    {
     "data": {
      "image/png": "[encoded data removed]",
      "text/plain": [
       "<Figure size 432x288 with 1 Axes>"
      ]
     },
     "metadata": {
      "needs_background": "light"
     },
     "output_type": "display_data"
    }
   ],
   "source": [
    "print(np.quantile(income_df.Mthly_HH_Income, [0.1, 0.9]))\n",
    "income_df.Mthly_HH_Income.plot.box(vert=False)"
   ]
  },
  {
   "cell_type": "markdown",
   "id": "9395ba5c",
   "metadata": {},
   "source": [
    "### Vraag 9: Wat is de Pearson correlatie coëfficiënt van het maandelijkse inkomen en de uitgaven? Is dit wat je zou verwachten, waarom wel/niet?"
   ]
  },
  {
   "cell_type": "code",
   "execution_count": 187,
   "id": "2b57b143",
   "metadata": {},
   "outputs": [
    {
     "data": {
      "text/html": [
       "<div>\n",
       "<style scoped>\n",
       "    .dataframe tbody tr th:only-of-type {\n",
       "        vertical-align: middle;\n",
       "    }\n",
       "\n",
       "    .dataframe tbody tr th {\n",
       "        vertical-align: top;\n",
       "    }\n",
       "\n",
       "    .dataframe thead th {\n",
       "        text-align: right;\n",
       "    }\n",
       "</style>\n",
       "<table border=\"1\" class=\"dataframe\">\n",
       "  <thead>\n",
       "    <tr style=\"text-align: right;\">\n",
       "      <th></th>\n",
       "      <th>Mthly_HH_Income</th>\n",
       "      <th>Mthly_HH_Expense</th>\n",
       "    </tr>\n",
       "  </thead>\n",
       "  <tbody>\n",
       "    <tr>\n",
       "      <th>Mthly_HH_Income</th>\n",
       "      <td>1.000000</td>\n",
       "      <td>0.649215</td>\n",
       "    </tr>\n",
       "    <tr>\n",
       "      <th>Mthly_HH_Expense</th>\n",
       "      <td>0.649215</td>\n",
       "      <td>1.000000</td>\n",
       "    </tr>\n",
       "  </tbody>\n",
       "</table>\n",
       "</div>"
      ],
      "text/plain": [
       "                  Mthly_HH_Income  Mthly_HH_Expense\n",
       "Mthly_HH_Income          1.000000          0.649215\n",
       "Mthly_HH_Expense         0.649215          1.000000"
      ]
     },
     "execution_count": 187,
     "metadata": {},
     "output_type": "execute_result"
    }
   ],
   "source": [
    "## Typ hier je code\n",
    "income_df[[\"Mthly_HH_Income\", \"Mthly_HH_Expense\"]].corr()"
   ]
  },
  {
   "cell_type": "code",
   "execution_count": 194,
   "id": "7be28469",
   "metadata": {},
   "outputs": [
    {
     "data": {
      "text/plain": [
       "<AxesSubplot:xlabel='Mthly_HH_Income', ylabel='Mthly_HH_Expense'>"
      ]
     },
     "execution_count": 194,
     "metadata": {},
     "output_type": "execute_result"
    },
    {
     "data": {
      "image/png": "[encoded data removed]",
      "text/plain": [
       "<Figure size 432x288 with 1 Axes>"
      ]
     },
     "metadata": {
      "needs_background": "light"
     },
     "output_type": "display_data"
    }
   ],
   "source": [
    "income_df.plot.scatter(x=\"Mthly_HH_Income\",y=\"Mthly_HH_Expense\")"
   ]
  },
  {
   "cell_type": "code",
   "execution_count": null,
   "id": "26d5eb77",
   "metadata": {},
   "outputs": [],
   "source": []
  }
 ],
 "metadata": {
  "kernelspec": {
   "display_name": "Python 3 (ipykernel)",
   "language": "python",
   "name": "python3"
  },
  "language_info": {
   "codemirror_mode": {
    "name": "ipython",
    "version": 3
   },
   "file_extension": ".py",
   "mimetype": "text/x-python",
   "name": "python",
   "nbconvert_exporter": "python",
   "pygments_lexer": "ipython3",
   "version": "3.9.13"
  }
 },
 "nbformat": 4,
 "nbformat_minor": 5
}
